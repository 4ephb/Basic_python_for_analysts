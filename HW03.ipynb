{
 "cells": [
  {
   "cell_type": "markdown",
   "source": [
    "# Урок 3. Изменение таблиц в Pandas"
   ],
   "metadata": {
    "collapsed": false
   }
  },
  {
   "cell_type": "code",
   "execution_count": 96,
   "outputs": [],
   "source": [
    "import pandas as pd"
   ],
   "metadata": {
    "collapsed": false
   }
  },
  {
   "cell_type": "markdown",
   "source": [
    "## Задача 1"
   ],
   "metadata": {
    "collapsed": false
   }
  },
  {
   "cell_type": "markdown",
   "source": [
    "_Считать данные с помощью pandas_\n",
    "_Вывести на экран первые 5 строк_\n",
    "1. Создать новый признак price_per_sq_lot, который будет содержать среднюю стоимость за один кв. метр общей площади\n",
    "2. Создать новый признак delta_renovated, который будет содержать разницу в годах между годом реновацией дома и годом постройки дома\n",
    "_Если реновации дома не было, то в новом признаке поставьте 0_\n",
    "3. Создайте признаки года продажи, месяца продажи\n",
    "4. Удалите признаки date, zipcode, lat, long"
   ],
   "metadata": {
    "collapsed": false
   }
  },
  {
   "cell_type": "code",
   "execution_count": 6,
   "outputs": [
    {
     "data": {
      "text/plain": "           id       date     price  bedrooms  bathrooms  sqft_living  \\\n0  7129300520 2014-10-13  221900.0         3       1.00         1180   \n1  6414100192 2014-12-09  538000.0         3       2.25         2570   \n2  5631500400 2015-02-25  180000.0         2       1.00          770   \n3  2487200875 2014-12-09  604000.0         4       3.00         1960   \n4  1954400510 2015-02-18  510000.0         3       2.00         1680   \n\n   sqft_lot  floors  waterfront  view  ...  grade  sqft_above  sqft_basement  \\\n0      5650     1.0           0     0  ...      7        1180              0   \n1      7242     2.0           0     0  ...      7        2170            400   \n2     10000     1.0           0     0  ...      6         770              0   \n3      5000     1.0           0     0  ...      7        1050            910   \n4      8080     1.0           0     0  ...      8        1680              0   \n\n   yr_built  yr_renovated  zipcode      lat     long  sqft_living15  \\\n0      1955             0    98178  47.5112 -122.257           1340   \n1      1951          1991    98125  47.7210 -122.319           1690   \n2      1933             0    98028  47.7379 -122.233           2720   \n3      1965             0    98136  47.5208 -122.393           1360   \n4      1987             0    98074  47.6168 -122.045           1800   \n\n   sqft_lot15  \n0        5650  \n1        7639  \n2        8062  \n3        5000  \n4        7503  \n\n[5 rows x 21 columns]",
      "text/html": "<div>\n<style scoped>\n    .dataframe tbody tr th:only-of-type {\n        vertical-align: middle;\n    }\n\n    .dataframe tbody tr th {\n        vertical-align: top;\n    }\n\n    .dataframe thead th {\n        text-align: right;\n    }\n</style>\n<table border=\"1\" class=\"dataframe\">\n  <thead>\n    <tr style=\"text-align: right;\">\n      <th></th>\n      <th>id</th>\n      <th>date</th>\n      <th>price</th>\n      <th>bedrooms</th>\n      <th>bathrooms</th>\n      <th>sqft_living</th>\n      <th>sqft_lot</th>\n      <th>floors</th>\n      <th>waterfront</th>\n      <th>view</th>\n      <th>...</th>\n      <th>grade</th>\n      <th>sqft_above</th>\n      <th>sqft_basement</th>\n      <th>yr_built</th>\n      <th>yr_renovated</th>\n      <th>zipcode</th>\n      <th>lat</th>\n      <th>long</th>\n      <th>sqft_living15</th>\n      <th>sqft_lot15</th>\n    </tr>\n  </thead>\n  <tbody>\n    <tr>\n      <th>0</th>\n      <td>7129300520</td>\n      <td>2014-10-13</td>\n      <td>221900.0</td>\n      <td>3</td>\n      <td>1.00</td>\n      <td>1180</td>\n      <td>5650</td>\n      <td>1.0</td>\n      <td>0</td>\n      <td>0</td>\n      <td>...</td>\n      <td>7</td>\n      <td>1180</td>\n      <td>0</td>\n      <td>1955</td>\n      <td>0</td>\n      <td>98178</td>\n      <td>47.5112</td>\n      <td>-122.257</td>\n      <td>1340</td>\n      <td>5650</td>\n    </tr>\n    <tr>\n      <th>1</th>\n      <td>6414100192</td>\n      <td>2014-12-09</td>\n      <td>538000.0</td>\n      <td>3</td>\n      <td>2.25</td>\n      <td>2570</td>\n      <td>7242</td>\n      <td>2.0</td>\n      <td>0</td>\n      <td>0</td>\n      <td>...</td>\n      <td>7</td>\n      <td>2170</td>\n      <td>400</td>\n      <td>1951</td>\n      <td>1991</td>\n      <td>98125</td>\n      <td>47.7210</td>\n      <td>-122.319</td>\n      <td>1690</td>\n      <td>7639</td>\n    </tr>\n    <tr>\n      <th>2</th>\n      <td>5631500400</td>\n      <td>2015-02-25</td>\n      <td>180000.0</td>\n      <td>2</td>\n      <td>1.00</td>\n      <td>770</td>\n      <td>10000</td>\n      <td>1.0</td>\n      <td>0</td>\n      <td>0</td>\n      <td>...</td>\n      <td>6</td>\n      <td>770</td>\n      <td>0</td>\n      <td>1933</td>\n      <td>0</td>\n      <td>98028</td>\n      <td>47.7379</td>\n      <td>-122.233</td>\n      <td>2720</td>\n      <td>8062</td>\n    </tr>\n    <tr>\n      <th>3</th>\n      <td>2487200875</td>\n      <td>2014-12-09</td>\n      <td>604000.0</td>\n      <td>4</td>\n      <td>3.00</td>\n      <td>1960</td>\n      <td>5000</td>\n      <td>1.0</td>\n      <td>0</td>\n      <td>0</td>\n      <td>...</td>\n      <td>7</td>\n      <td>1050</td>\n      <td>910</td>\n      <td>1965</td>\n      <td>0</td>\n      <td>98136</td>\n      <td>47.5208</td>\n      <td>-122.393</td>\n      <td>1360</td>\n      <td>5000</td>\n    </tr>\n    <tr>\n      <th>4</th>\n      <td>1954400510</td>\n      <td>2015-02-18</td>\n      <td>510000.0</td>\n      <td>3</td>\n      <td>2.00</td>\n      <td>1680</td>\n      <td>8080</td>\n      <td>1.0</td>\n      <td>0</td>\n      <td>0</td>\n      <td>...</td>\n      <td>8</td>\n      <td>1680</td>\n      <td>0</td>\n      <td>1987</td>\n      <td>0</td>\n      <td>98074</td>\n      <td>47.6168</td>\n      <td>-122.045</td>\n      <td>1800</td>\n      <td>7503</td>\n    </tr>\n  </tbody>\n</table>\n<p>5 rows × 21 columns</p>\n</div>"
     },
     "execution_count": 6,
     "metadata": {},
     "output_type": "execute_result"
    }
   ],
   "source": [
    "df = pd.read_csv('data/kc_house_data.csv')\n",
    "df['date'] = pd.to_datetime(df['date'])\n",
    "df.head()"
   ],
   "metadata": {
    "collapsed": false
   }
  },
  {
   "cell_type": "markdown",
   "source": [
    "### 1. Создать новый признак price_per_sq_lot, который будет содержать среднюю стоимость за один кв. метр общей площади"
   ],
   "metadata": {
    "collapsed": false
   }
  },
  {
   "cell_type": "code",
   "execution_count": 8,
   "outputs": [
    {
     "data": {
      "text/plain": "           id       date      price  bedrooms  bathrooms  sqft_living  \\\n0  7129300520 2014-10-13   221900.0         3       1.00         1180   \n1  6414100192 2014-12-09   538000.0         3       2.25         2570   \n2  5631500400 2015-02-25   180000.0         2       1.00          770   \n3  2487200875 2014-12-09   604000.0         4       3.00         1960   \n4  1954400510 2015-02-18   510000.0         3       2.00         1680   \n5  7237550310 2014-05-12  1225000.0         4       4.50         5420   \n6  1321400060 2014-06-27   257500.0         3       2.25         1715   \n7  2008000270 2015-01-15   291850.0         3       1.50         1060   \n8  2414600126 2015-04-15   229500.0         3       1.00         1780   \n9  3793500160 2015-03-12   323000.0         3       2.50         1890   \n\n   sqft_lot  floors  waterfront  view  ...  sqft_above  sqft_basement  \\\n0      5650     1.0           0     0  ...        1180              0   \n1      7242     2.0           0     0  ...        2170            400   \n2     10000     1.0           0     0  ...         770              0   \n3      5000     1.0           0     0  ...        1050            910   \n4      8080     1.0           0     0  ...        1680              0   \n5    101930     1.0           0     0  ...        3890           1530   \n6      6819     2.0           0     0  ...        1715              0   \n7      9711     1.0           0     0  ...        1060              0   \n8      7470     1.0           0     0  ...        1050            730   \n9      6560     2.0           0     0  ...        1890              0   \n\n   yr_built  yr_renovated  zipcode      lat     long  sqft_living15  \\\n0      1955             0    98178  47.5112 -122.257           1340   \n1      1951          1991    98125  47.7210 -122.319           1690   \n2      1933             0    98028  47.7379 -122.233           2720   \n3      1965             0    98136  47.5208 -122.393           1360   \n4      1987             0    98074  47.6168 -122.045           1800   \n5      2001             0    98053  47.6561 -122.005           4760   \n6      1995             0    98003  47.3097 -122.327           2238   \n7      1963             0    98198  47.4095 -122.315           1650   \n8      1960             0    98146  47.5123 -122.337           1780   \n9      2003             0    98038  47.3684 -122.031           2390   \n\n   sqft_lot15  price_per_sq_lot  \n0        5650         39.274336  \n1        7639         74.288870  \n2        8062         18.000000  \n3        5000        120.800000  \n4        7503         63.118812  \n5      101930         12.018052  \n6        6819         37.762135  \n7        9711         30.053548  \n8        8113         30.722892  \n9        7570         49.237805  \n\n[10 rows x 22 columns]",
      "text/html": "<div>\n<style scoped>\n    .dataframe tbody tr th:only-of-type {\n        vertical-align: middle;\n    }\n\n    .dataframe tbody tr th {\n        vertical-align: top;\n    }\n\n    .dataframe thead th {\n        text-align: right;\n    }\n</style>\n<table border=\"1\" class=\"dataframe\">\n  <thead>\n    <tr style=\"text-align: right;\">\n      <th></th>\n      <th>id</th>\n      <th>date</th>\n      <th>price</th>\n      <th>bedrooms</th>\n      <th>bathrooms</th>\n      <th>sqft_living</th>\n      <th>sqft_lot</th>\n      <th>floors</th>\n      <th>waterfront</th>\n      <th>view</th>\n      <th>...</th>\n      <th>sqft_above</th>\n      <th>sqft_basement</th>\n      <th>yr_built</th>\n      <th>yr_renovated</th>\n      <th>zipcode</th>\n      <th>lat</th>\n      <th>long</th>\n      <th>sqft_living15</th>\n      <th>sqft_lot15</th>\n      <th>price_per_sq_lot</th>\n    </tr>\n  </thead>\n  <tbody>\n    <tr>\n      <th>0</th>\n      <td>7129300520</td>\n      <td>2014-10-13</td>\n      <td>221900.0</td>\n      <td>3</td>\n      <td>1.00</td>\n      <td>1180</td>\n      <td>5650</td>\n      <td>1.0</td>\n      <td>0</td>\n      <td>0</td>\n      <td>...</td>\n      <td>1180</td>\n      <td>0</td>\n      <td>1955</td>\n      <td>0</td>\n      <td>98178</td>\n      <td>47.5112</td>\n      <td>-122.257</td>\n      <td>1340</td>\n      <td>5650</td>\n      <td>39.274336</td>\n    </tr>\n    <tr>\n      <th>1</th>\n      <td>6414100192</td>\n      <td>2014-12-09</td>\n      <td>538000.0</td>\n      <td>3</td>\n      <td>2.25</td>\n      <td>2570</td>\n      <td>7242</td>\n      <td>2.0</td>\n      <td>0</td>\n      <td>0</td>\n      <td>...</td>\n      <td>2170</td>\n      <td>400</td>\n      <td>1951</td>\n      <td>1991</td>\n      <td>98125</td>\n      <td>47.7210</td>\n      <td>-122.319</td>\n      <td>1690</td>\n      <td>7639</td>\n      <td>74.288870</td>\n    </tr>\n    <tr>\n      <th>2</th>\n      <td>5631500400</td>\n      <td>2015-02-25</td>\n      <td>180000.0</td>\n      <td>2</td>\n      <td>1.00</td>\n      <td>770</td>\n      <td>10000</td>\n      <td>1.0</td>\n      <td>0</td>\n      <td>0</td>\n      <td>...</td>\n      <td>770</td>\n      <td>0</td>\n      <td>1933</td>\n      <td>0</td>\n      <td>98028</td>\n      <td>47.7379</td>\n      <td>-122.233</td>\n      <td>2720</td>\n      <td>8062</td>\n      <td>18.000000</td>\n    </tr>\n    <tr>\n      <th>3</th>\n      <td>2487200875</td>\n      <td>2014-12-09</td>\n      <td>604000.0</td>\n      <td>4</td>\n      <td>3.00</td>\n      <td>1960</td>\n      <td>5000</td>\n      <td>1.0</td>\n      <td>0</td>\n      <td>0</td>\n      <td>...</td>\n      <td>1050</td>\n      <td>910</td>\n      <td>1965</td>\n      <td>0</td>\n      <td>98136</td>\n      <td>47.5208</td>\n      <td>-122.393</td>\n      <td>1360</td>\n      <td>5000</td>\n      <td>120.800000</td>\n    </tr>\n    <tr>\n      <th>4</th>\n      <td>1954400510</td>\n      <td>2015-02-18</td>\n      <td>510000.0</td>\n      <td>3</td>\n      <td>2.00</td>\n      <td>1680</td>\n      <td>8080</td>\n      <td>1.0</td>\n      <td>0</td>\n      <td>0</td>\n      <td>...</td>\n      <td>1680</td>\n      <td>0</td>\n      <td>1987</td>\n      <td>0</td>\n      <td>98074</td>\n      <td>47.6168</td>\n      <td>-122.045</td>\n      <td>1800</td>\n      <td>7503</td>\n      <td>63.118812</td>\n    </tr>\n    <tr>\n      <th>5</th>\n      <td>7237550310</td>\n      <td>2014-05-12</td>\n      <td>1225000.0</td>\n      <td>4</td>\n      <td>4.50</td>\n      <td>5420</td>\n      <td>101930</td>\n      <td>1.0</td>\n      <td>0</td>\n      <td>0</td>\n      <td>...</td>\n      <td>3890</td>\n      <td>1530</td>\n      <td>2001</td>\n      <td>0</td>\n      <td>98053</td>\n      <td>47.6561</td>\n      <td>-122.005</td>\n      <td>4760</td>\n      <td>101930</td>\n      <td>12.018052</td>\n    </tr>\n    <tr>\n      <th>6</th>\n      <td>1321400060</td>\n      <td>2014-06-27</td>\n      <td>257500.0</td>\n      <td>3</td>\n      <td>2.25</td>\n      <td>1715</td>\n      <td>6819</td>\n      <td>2.0</td>\n      <td>0</td>\n      <td>0</td>\n      <td>...</td>\n      <td>1715</td>\n      <td>0</td>\n      <td>1995</td>\n      <td>0</td>\n      <td>98003</td>\n      <td>47.3097</td>\n      <td>-122.327</td>\n      <td>2238</td>\n      <td>6819</td>\n      <td>37.762135</td>\n    </tr>\n    <tr>\n      <th>7</th>\n      <td>2008000270</td>\n      <td>2015-01-15</td>\n      <td>291850.0</td>\n      <td>3</td>\n      <td>1.50</td>\n      <td>1060</td>\n      <td>9711</td>\n      <td>1.0</td>\n      <td>0</td>\n      <td>0</td>\n      <td>...</td>\n      <td>1060</td>\n      <td>0</td>\n      <td>1963</td>\n      <td>0</td>\n      <td>98198</td>\n      <td>47.4095</td>\n      <td>-122.315</td>\n      <td>1650</td>\n      <td>9711</td>\n      <td>30.053548</td>\n    </tr>\n    <tr>\n      <th>8</th>\n      <td>2414600126</td>\n      <td>2015-04-15</td>\n      <td>229500.0</td>\n      <td>3</td>\n      <td>1.00</td>\n      <td>1780</td>\n      <td>7470</td>\n      <td>1.0</td>\n      <td>0</td>\n      <td>0</td>\n      <td>...</td>\n      <td>1050</td>\n      <td>730</td>\n      <td>1960</td>\n      <td>0</td>\n      <td>98146</td>\n      <td>47.5123</td>\n      <td>-122.337</td>\n      <td>1780</td>\n      <td>8113</td>\n      <td>30.722892</td>\n    </tr>\n    <tr>\n      <th>9</th>\n      <td>3793500160</td>\n      <td>2015-03-12</td>\n      <td>323000.0</td>\n      <td>3</td>\n      <td>2.50</td>\n      <td>1890</td>\n      <td>6560</td>\n      <td>2.0</td>\n      <td>0</td>\n      <td>0</td>\n      <td>...</td>\n      <td>1890</td>\n      <td>0</td>\n      <td>2003</td>\n      <td>0</td>\n      <td>98038</td>\n      <td>47.3684</td>\n      <td>-122.031</td>\n      <td>2390</td>\n      <td>7570</td>\n      <td>49.237805</td>\n    </tr>\n  </tbody>\n</table>\n<p>10 rows × 22 columns</p>\n</div>"
     },
     "execution_count": 8,
     "metadata": {},
     "output_type": "execute_result"
    }
   ],
   "source": [
    "df['price_per_sq_lot'] = df['price'] / df['sqft_lot']\n",
    "df.head(10)"
   ],
   "metadata": {
    "collapsed": false
   }
  },
  {
   "cell_type": "markdown",
   "source": [
    "### 2. Создать новый признак delta_renovated, который будет содержать разницу в годах между годом реновацией дома и годом постройки дома"
   ],
   "metadata": {
    "collapsed": false
   }
  },
  {
   "cell_type": "markdown",
   "source": [
    "_Если реновации дома не было, то в новом признаке поставьте 0_"
   ],
   "metadata": {
    "collapsed": false
   }
  },
  {
   "cell_type": "code",
   "execution_count": 10,
   "outputs": [
    {
     "data": {
      "text/plain": "           id       date      price  bedrooms  bathrooms  sqft_living  \\\n0  7129300520 2014-10-13   221900.0         3       1.00         1180   \n1  6414100192 2014-12-09   538000.0         3       2.25         2570   \n2  5631500400 2015-02-25   180000.0         2       1.00          770   \n3  2487200875 2014-12-09   604000.0         4       3.00         1960   \n4  1954400510 2015-02-18   510000.0         3       2.00         1680   \n5  7237550310 2014-05-12  1225000.0         4       4.50         5420   \n6  1321400060 2014-06-27   257500.0         3       2.25         1715   \n7  2008000270 2015-01-15   291850.0         3       1.50         1060   \n8  2414600126 2015-04-15   229500.0         3       1.00         1780   \n9  3793500160 2015-03-12   323000.0         3       2.50         1890   \n\n   sqft_lot  floors  waterfront  view  ...  sqft_basement  yr_built  \\\n0      5650     1.0           0     0  ...              0      1955   \n1      7242     2.0           0     0  ...            400      1951   \n2     10000     1.0           0     0  ...              0      1933   \n3      5000     1.0           0     0  ...            910      1965   \n4      8080     1.0           0     0  ...              0      1987   \n5    101930     1.0           0     0  ...           1530      2001   \n6      6819     2.0           0     0  ...              0      1995   \n7      9711     1.0           0     0  ...              0      1963   \n8      7470     1.0           0     0  ...            730      1960   \n9      6560     2.0           0     0  ...              0      2003   \n\n   yr_renovated  zipcode      lat     long  sqft_living15  sqft_lot15  \\\n0             0    98178  47.5112 -122.257           1340        5650   \n1          1991    98125  47.7210 -122.319           1690        7639   \n2             0    98028  47.7379 -122.233           2720        8062   \n3             0    98136  47.5208 -122.393           1360        5000   \n4             0    98074  47.6168 -122.045           1800        7503   \n5             0    98053  47.6561 -122.005           4760      101930   \n6             0    98003  47.3097 -122.327           2238        6819   \n7             0    98198  47.4095 -122.315           1650        9711   \n8             0    98146  47.5123 -122.337           1780        8113   \n9             0    98038  47.3684 -122.031           2390        7570   \n\n   price_per_sq_lot  delta_renovated  \n0         39.274336                0  \n1         74.288870               40  \n2         18.000000                0  \n3        120.800000                0  \n4         63.118812                0  \n5         12.018052                0  \n6         37.762135                0  \n7         30.053548                0  \n8         30.722892                0  \n9         49.237805                0  \n\n[10 rows x 23 columns]",
      "text/html": "<div>\n<style scoped>\n    .dataframe tbody tr th:only-of-type {\n        vertical-align: middle;\n    }\n\n    .dataframe tbody tr th {\n        vertical-align: top;\n    }\n\n    .dataframe thead th {\n        text-align: right;\n    }\n</style>\n<table border=\"1\" class=\"dataframe\">\n  <thead>\n    <tr style=\"text-align: right;\">\n      <th></th>\n      <th>id</th>\n      <th>date</th>\n      <th>price</th>\n      <th>bedrooms</th>\n      <th>bathrooms</th>\n      <th>sqft_living</th>\n      <th>sqft_lot</th>\n      <th>floors</th>\n      <th>waterfront</th>\n      <th>view</th>\n      <th>...</th>\n      <th>sqft_basement</th>\n      <th>yr_built</th>\n      <th>yr_renovated</th>\n      <th>zipcode</th>\n      <th>lat</th>\n      <th>long</th>\n      <th>sqft_living15</th>\n      <th>sqft_lot15</th>\n      <th>price_per_sq_lot</th>\n      <th>delta_renovated</th>\n    </tr>\n  </thead>\n  <tbody>\n    <tr>\n      <th>0</th>\n      <td>7129300520</td>\n      <td>2014-10-13</td>\n      <td>221900.0</td>\n      <td>3</td>\n      <td>1.00</td>\n      <td>1180</td>\n      <td>5650</td>\n      <td>1.0</td>\n      <td>0</td>\n      <td>0</td>\n      <td>...</td>\n      <td>0</td>\n      <td>1955</td>\n      <td>0</td>\n      <td>98178</td>\n      <td>47.5112</td>\n      <td>-122.257</td>\n      <td>1340</td>\n      <td>5650</td>\n      <td>39.274336</td>\n      <td>0</td>\n    </tr>\n    <tr>\n      <th>1</th>\n      <td>6414100192</td>\n      <td>2014-12-09</td>\n      <td>538000.0</td>\n      <td>3</td>\n      <td>2.25</td>\n      <td>2570</td>\n      <td>7242</td>\n      <td>2.0</td>\n      <td>0</td>\n      <td>0</td>\n      <td>...</td>\n      <td>400</td>\n      <td>1951</td>\n      <td>1991</td>\n      <td>98125</td>\n      <td>47.7210</td>\n      <td>-122.319</td>\n      <td>1690</td>\n      <td>7639</td>\n      <td>74.288870</td>\n      <td>40</td>\n    </tr>\n    <tr>\n      <th>2</th>\n      <td>5631500400</td>\n      <td>2015-02-25</td>\n      <td>180000.0</td>\n      <td>2</td>\n      <td>1.00</td>\n      <td>770</td>\n      <td>10000</td>\n      <td>1.0</td>\n      <td>0</td>\n      <td>0</td>\n      <td>...</td>\n      <td>0</td>\n      <td>1933</td>\n      <td>0</td>\n      <td>98028</td>\n      <td>47.7379</td>\n      <td>-122.233</td>\n      <td>2720</td>\n      <td>8062</td>\n      <td>18.000000</td>\n      <td>0</td>\n    </tr>\n    <tr>\n      <th>3</th>\n      <td>2487200875</td>\n      <td>2014-12-09</td>\n      <td>604000.0</td>\n      <td>4</td>\n      <td>3.00</td>\n      <td>1960</td>\n      <td>5000</td>\n      <td>1.0</td>\n      <td>0</td>\n      <td>0</td>\n      <td>...</td>\n      <td>910</td>\n      <td>1965</td>\n      <td>0</td>\n      <td>98136</td>\n      <td>47.5208</td>\n      <td>-122.393</td>\n      <td>1360</td>\n      <td>5000</td>\n      <td>120.800000</td>\n      <td>0</td>\n    </tr>\n    <tr>\n      <th>4</th>\n      <td>1954400510</td>\n      <td>2015-02-18</td>\n      <td>510000.0</td>\n      <td>3</td>\n      <td>2.00</td>\n      <td>1680</td>\n      <td>8080</td>\n      <td>1.0</td>\n      <td>0</td>\n      <td>0</td>\n      <td>...</td>\n      <td>0</td>\n      <td>1987</td>\n      <td>0</td>\n      <td>98074</td>\n      <td>47.6168</td>\n      <td>-122.045</td>\n      <td>1800</td>\n      <td>7503</td>\n      <td>63.118812</td>\n      <td>0</td>\n    </tr>\n    <tr>\n      <th>5</th>\n      <td>7237550310</td>\n      <td>2014-05-12</td>\n      <td>1225000.0</td>\n      <td>4</td>\n      <td>4.50</td>\n      <td>5420</td>\n      <td>101930</td>\n      <td>1.0</td>\n      <td>0</td>\n      <td>0</td>\n      <td>...</td>\n      <td>1530</td>\n      <td>2001</td>\n      <td>0</td>\n      <td>98053</td>\n      <td>47.6561</td>\n      <td>-122.005</td>\n      <td>4760</td>\n      <td>101930</td>\n      <td>12.018052</td>\n      <td>0</td>\n    </tr>\n    <tr>\n      <th>6</th>\n      <td>1321400060</td>\n      <td>2014-06-27</td>\n      <td>257500.0</td>\n      <td>3</td>\n      <td>2.25</td>\n      <td>1715</td>\n      <td>6819</td>\n      <td>2.0</td>\n      <td>0</td>\n      <td>0</td>\n      <td>...</td>\n      <td>0</td>\n      <td>1995</td>\n      <td>0</td>\n      <td>98003</td>\n      <td>47.3097</td>\n      <td>-122.327</td>\n      <td>2238</td>\n      <td>6819</td>\n      <td>37.762135</td>\n      <td>0</td>\n    </tr>\n    <tr>\n      <th>7</th>\n      <td>2008000270</td>\n      <td>2015-01-15</td>\n      <td>291850.0</td>\n      <td>3</td>\n      <td>1.50</td>\n      <td>1060</td>\n      <td>9711</td>\n      <td>1.0</td>\n      <td>0</td>\n      <td>0</td>\n      <td>...</td>\n      <td>0</td>\n      <td>1963</td>\n      <td>0</td>\n      <td>98198</td>\n      <td>47.4095</td>\n      <td>-122.315</td>\n      <td>1650</td>\n      <td>9711</td>\n      <td>30.053548</td>\n      <td>0</td>\n    </tr>\n    <tr>\n      <th>8</th>\n      <td>2414600126</td>\n      <td>2015-04-15</td>\n      <td>229500.0</td>\n      <td>3</td>\n      <td>1.00</td>\n      <td>1780</td>\n      <td>7470</td>\n      <td>1.0</td>\n      <td>0</td>\n      <td>0</td>\n      <td>...</td>\n      <td>730</td>\n      <td>1960</td>\n      <td>0</td>\n      <td>98146</td>\n      <td>47.5123</td>\n      <td>-122.337</td>\n      <td>1780</td>\n      <td>8113</td>\n      <td>30.722892</td>\n      <td>0</td>\n    </tr>\n    <tr>\n      <th>9</th>\n      <td>3793500160</td>\n      <td>2015-03-12</td>\n      <td>323000.0</td>\n      <td>3</td>\n      <td>2.50</td>\n      <td>1890</td>\n      <td>6560</td>\n      <td>2.0</td>\n      <td>0</td>\n      <td>0</td>\n      <td>...</td>\n      <td>0</td>\n      <td>2003</td>\n      <td>0</td>\n      <td>98038</td>\n      <td>47.3684</td>\n      <td>-122.031</td>\n      <td>2390</td>\n      <td>7570</td>\n      <td>49.237805</td>\n      <td>0</td>\n    </tr>\n  </tbody>\n</table>\n<p>10 rows × 23 columns</p>\n</div>"
     },
     "execution_count": 10,
     "metadata": {},
     "output_type": "execute_result"
    }
   ],
   "source": [
    "df['delta_renovated'] = df['yr_renovated'] - df['yr_built']\n",
    "df['delta_renovated'] = df['delta_renovated'].apply(lambda x: x if x >= 0 else 0)\n",
    "df.head(10)"
   ],
   "metadata": {
    "collapsed": false
   }
  },
  {
   "cell_type": "markdown",
   "source": [
    "### 3. Создайте признаки года продажи, месяца продажи"
   ],
   "metadata": {
    "collapsed": false
   }
  },
  {
   "cell_type": "code",
   "execution_count": 11,
   "outputs": [
    {
     "data": {
      "text/plain": "           id       date      price  bedrooms  bathrooms  sqft_living  \\\n0  7129300520 2014-10-13   221900.0         3       1.00         1180   \n1  6414100192 2014-12-09   538000.0         3       2.25         2570   \n2  5631500400 2015-02-25   180000.0         2       1.00          770   \n3  2487200875 2014-12-09   604000.0         4       3.00         1960   \n4  1954400510 2015-02-18   510000.0         3       2.00         1680   \n5  7237550310 2014-05-12  1225000.0         4       4.50         5420   \n6  1321400060 2014-06-27   257500.0         3       2.25         1715   \n7  2008000270 2015-01-15   291850.0         3       1.50         1060   \n8  2414600126 2015-04-15   229500.0         3       1.00         1780   \n9  3793500160 2015-03-12   323000.0         3       2.50         1890   \n\n   sqft_lot  floors  waterfront  view  ...  yr_renovated  zipcode      lat  \\\n0      5650     1.0           0     0  ...             0    98178  47.5112   \n1      7242     2.0           0     0  ...          1991    98125  47.7210   \n2     10000     1.0           0     0  ...             0    98028  47.7379   \n3      5000     1.0           0     0  ...             0    98136  47.5208   \n4      8080     1.0           0     0  ...             0    98074  47.6168   \n5    101930     1.0           0     0  ...             0    98053  47.6561   \n6      6819     2.0           0     0  ...             0    98003  47.3097   \n7      9711     1.0           0     0  ...             0    98198  47.4095   \n8      7470     1.0           0     0  ...             0    98146  47.5123   \n9      6560     2.0           0     0  ...             0    98038  47.3684   \n\n      long  sqft_living15  sqft_lot15  price_per_sq_lot  delta_renovated  \\\n0 -122.257           1340        5650         39.274336                0   \n1 -122.319           1690        7639         74.288870               40   \n2 -122.233           2720        8062         18.000000                0   \n3 -122.393           1360        5000        120.800000                0   \n4 -122.045           1800        7503         63.118812                0   \n5 -122.005           4760      101930         12.018052                0   \n6 -122.327           2238        6819         37.762135                0   \n7 -122.315           1650        9711         30.053548                0   \n8 -122.337           1780        8113         30.722892                0   \n9 -122.031           2390        7570         49.237805                0   \n\n   year_sold  month_sold  \n0       2014          10  \n1       2014          12  \n2       2015           2  \n3       2014          12  \n4       2015           2  \n5       2014           5  \n6       2014           6  \n7       2015           1  \n8       2015           4  \n9       2015           3  \n\n[10 rows x 25 columns]",
      "text/html": "<div>\n<style scoped>\n    .dataframe tbody tr th:only-of-type {\n        vertical-align: middle;\n    }\n\n    .dataframe tbody tr th {\n        vertical-align: top;\n    }\n\n    .dataframe thead th {\n        text-align: right;\n    }\n</style>\n<table border=\"1\" class=\"dataframe\">\n  <thead>\n    <tr style=\"text-align: right;\">\n      <th></th>\n      <th>id</th>\n      <th>date</th>\n      <th>price</th>\n      <th>bedrooms</th>\n      <th>bathrooms</th>\n      <th>sqft_living</th>\n      <th>sqft_lot</th>\n      <th>floors</th>\n      <th>waterfront</th>\n      <th>view</th>\n      <th>...</th>\n      <th>yr_renovated</th>\n      <th>zipcode</th>\n      <th>lat</th>\n      <th>long</th>\n      <th>sqft_living15</th>\n      <th>sqft_lot15</th>\n      <th>price_per_sq_lot</th>\n      <th>delta_renovated</th>\n      <th>year_sold</th>\n      <th>month_sold</th>\n    </tr>\n  </thead>\n  <tbody>\n    <tr>\n      <th>0</th>\n      <td>7129300520</td>\n      <td>2014-10-13</td>\n      <td>221900.0</td>\n      <td>3</td>\n      <td>1.00</td>\n      <td>1180</td>\n      <td>5650</td>\n      <td>1.0</td>\n      <td>0</td>\n      <td>0</td>\n      <td>...</td>\n      <td>0</td>\n      <td>98178</td>\n      <td>47.5112</td>\n      <td>-122.257</td>\n      <td>1340</td>\n      <td>5650</td>\n      <td>39.274336</td>\n      <td>0</td>\n      <td>2014</td>\n      <td>10</td>\n    </tr>\n    <tr>\n      <th>1</th>\n      <td>6414100192</td>\n      <td>2014-12-09</td>\n      <td>538000.0</td>\n      <td>3</td>\n      <td>2.25</td>\n      <td>2570</td>\n      <td>7242</td>\n      <td>2.0</td>\n      <td>0</td>\n      <td>0</td>\n      <td>...</td>\n      <td>1991</td>\n      <td>98125</td>\n      <td>47.7210</td>\n      <td>-122.319</td>\n      <td>1690</td>\n      <td>7639</td>\n      <td>74.288870</td>\n      <td>40</td>\n      <td>2014</td>\n      <td>12</td>\n    </tr>\n    <tr>\n      <th>2</th>\n      <td>5631500400</td>\n      <td>2015-02-25</td>\n      <td>180000.0</td>\n      <td>2</td>\n      <td>1.00</td>\n      <td>770</td>\n      <td>10000</td>\n      <td>1.0</td>\n      <td>0</td>\n      <td>0</td>\n      <td>...</td>\n      <td>0</td>\n      <td>98028</td>\n      <td>47.7379</td>\n      <td>-122.233</td>\n      <td>2720</td>\n      <td>8062</td>\n      <td>18.000000</td>\n      <td>0</td>\n      <td>2015</td>\n      <td>2</td>\n    </tr>\n    <tr>\n      <th>3</th>\n      <td>2487200875</td>\n      <td>2014-12-09</td>\n      <td>604000.0</td>\n      <td>4</td>\n      <td>3.00</td>\n      <td>1960</td>\n      <td>5000</td>\n      <td>1.0</td>\n      <td>0</td>\n      <td>0</td>\n      <td>...</td>\n      <td>0</td>\n      <td>98136</td>\n      <td>47.5208</td>\n      <td>-122.393</td>\n      <td>1360</td>\n      <td>5000</td>\n      <td>120.800000</td>\n      <td>0</td>\n      <td>2014</td>\n      <td>12</td>\n    </tr>\n    <tr>\n      <th>4</th>\n      <td>1954400510</td>\n      <td>2015-02-18</td>\n      <td>510000.0</td>\n      <td>3</td>\n      <td>2.00</td>\n      <td>1680</td>\n      <td>8080</td>\n      <td>1.0</td>\n      <td>0</td>\n      <td>0</td>\n      <td>...</td>\n      <td>0</td>\n      <td>98074</td>\n      <td>47.6168</td>\n      <td>-122.045</td>\n      <td>1800</td>\n      <td>7503</td>\n      <td>63.118812</td>\n      <td>0</td>\n      <td>2015</td>\n      <td>2</td>\n    </tr>\n    <tr>\n      <th>5</th>\n      <td>7237550310</td>\n      <td>2014-05-12</td>\n      <td>1225000.0</td>\n      <td>4</td>\n      <td>4.50</td>\n      <td>5420</td>\n      <td>101930</td>\n      <td>1.0</td>\n      <td>0</td>\n      <td>0</td>\n      <td>...</td>\n      <td>0</td>\n      <td>98053</td>\n      <td>47.6561</td>\n      <td>-122.005</td>\n      <td>4760</td>\n      <td>101930</td>\n      <td>12.018052</td>\n      <td>0</td>\n      <td>2014</td>\n      <td>5</td>\n    </tr>\n    <tr>\n      <th>6</th>\n      <td>1321400060</td>\n      <td>2014-06-27</td>\n      <td>257500.0</td>\n      <td>3</td>\n      <td>2.25</td>\n      <td>1715</td>\n      <td>6819</td>\n      <td>2.0</td>\n      <td>0</td>\n      <td>0</td>\n      <td>...</td>\n      <td>0</td>\n      <td>98003</td>\n      <td>47.3097</td>\n      <td>-122.327</td>\n      <td>2238</td>\n      <td>6819</td>\n      <td>37.762135</td>\n      <td>0</td>\n      <td>2014</td>\n      <td>6</td>\n    </tr>\n    <tr>\n      <th>7</th>\n      <td>2008000270</td>\n      <td>2015-01-15</td>\n      <td>291850.0</td>\n      <td>3</td>\n      <td>1.50</td>\n      <td>1060</td>\n      <td>9711</td>\n      <td>1.0</td>\n      <td>0</td>\n      <td>0</td>\n      <td>...</td>\n      <td>0</td>\n      <td>98198</td>\n      <td>47.4095</td>\n      <td>-122.315</td>\n      <td>1650</td>\n      <td>9711</td>\n      <td>30.053548</td>\n      <td>0</td>\n      <td>2015</td>\n      <td>1</td>\n    </tr>\n    <tr>\n      <th>8</th>\n      <td>2414600126</td>\n      <td>2015-04-15</td>\n      <td>229500.0</td>\n      <td>3</td>\n      <td>1.00</td>\n      <td>1780</td>\n      <td>7470</td>\n      <td>1.0</td>\n      <td>0</td>\n      <td>0</td>\n      <td>...</td>\n      <td>0</td>\n      <td>98146</td>\n      <td>47.5123</td>\n      <td>-122.337</td>\n      <td>1780</td>\n      <td>8113</td>\n      <td>30.722892</td>\n      <td>0</td>\n      <td>2015</td>\n      <td>4</td>\n    </tr>\n    <tr>\n      <th>9</th>\n      <td>3793500160</td>\n      <td>2015-03-12</td>\n      <td>323000.0</td>\n      <td>3</td>\n      <td>2.50</td>\n      <td>1890</td>\n      <td>6560</td>\n      <td>2.0</td>\n      <td>0</td>\n      <td>0</td>\n      <td>...</td>\n      <td>0</td>\n      <td>98038</td>\n      <td>47.3684</td>\n      <td>-122.031</td>\n      <td>2390</td>\n      <td>7570</td>\n      <td>49.237805</td>\n      <td>0</td>\n      <td>2015</td>\n      <td>3</td>\n    </tr>\n  </tbody>\n</table>\n<p>10 rows × 25 columns</p>\n</div>"
     },
     "execution_count": 11,
     "metadata": {},
     "output_type": "execute_result"
    }
   ],
   "source": [
    "df['year_sold'] = pd.to_datetime(df['date']).dt.year\n",
    "df['month_sold'] = pd.to_datetime(df['date']).dt.month\n",
    "df.head(10)"
   ],
   "metadata": {
    "collapsed": false
   }
  },
  {
   "cell_type": "markdown",
   "source": [
    "### 4. Удалите признаки date, zipcode, lat, long"
   ],
   "metadata": {
    "collapsed": false
   }
  },
  {
   "cell_type": "code",
   "execution_count": 12,
   "outputs": [
    {
     "data": {
      "text/plain": "           id      price  bedrooms  bathrooms  sqft_living  sqft_lot  floors  \\\n0  7129300520   221900.0         3       1.00         1180      5650     1.0   \n1  6414100192   538000.0         3       2.25         2570      7242     2.0   \n2  5631500400   180000.0         2       1.00          770     10000     1.0   \n3  2487200875   604000.0         4       3.00         1960      5000     1.0   \n4  1954400510   510000.0         3       2.00         1680      8080     1.0   \n5  7237550310  1225000.0         4       4.50         5420    101930     1.0   \n6  1321400060   257500.0         3       2.25         1715      6819     2.0   \n7  2008000270   291850.0         3       1.50         1060      9711     1.0   \n8  2414600126   229500.0         3       1.00         1780      7470     1.0   \n9  3793500160   323000.0         3       2.50         1890      6560     2.0   \n\n   waterfront  view  condition  ...  sqft_above  sqft_basement  yr_built  \\\n0           0     0          3  ...        1180              0      1955   \n1           0     0          3  ...        2170            400      1951   \n2           0     0          3  ...         770              0      1933   \n3           0     0          5  ...        1050            910      1965   \n4           0     0          3  ...        1680              0      1987   \n5           0     0          3  ...        3890           1530      2001   \n6           0     0          3  ...        1715              0      1995   \n7           0     0          3  ...        1060              0      1963   \n8           0     0          3  ...        1050            730      1960   \n9           0     0          3  ...        1890              0      2003   \n\n   yr_renovated  sqft_living15  sqft_lot15  price_per_sq_lot  delta_renovated  \\\n0             0           1340        5650         39.274336                0   \n1          1991           1690        7639         74.288870               40   \n2             0           2720        8062         18.000000                0   \n3             0           1360        5000        120.800000                0   \n4             0           1800        7503         63.118812                0   \n5             0           4760      101930         12.018052                0   \n6             0           2238        6819         37.762135                0   \n7             0           1650        9711         30.053548                0   \n8             0           1780        8113         30.722892                0   \n9             0           2390        7570         49.237805                0   \n\n   year_sold  month_sold  \n0       2014          10  \n1       2014          12  \n2       2015           2  \n3       2014          12  \n4       2015           2  \n5       2014           5  \n6       2014           6  \n7       2015           1  \n8       2015           4  \n9       2015           3  \n\n[10 rows x 21 columns]",
      "text/html": "<div>\n<style scoped>\n    .dataframe tbody tr th:only-of-type {\n        vertical-align: middle;\n    }\n\n    .dataframe tbody tr th {\n        vertical-align: top;\n    }\n\n    .dataframe thead th {\n        text-align: right;\n    }\n</style>\n<table border=\"1\" class=\"dataframe\">\n  <thead>\n    <tr style=\"text-align: right;\">\n      <th></th>\n      <th>id</th>\n      <th>price</th>\n      <th>bedrooms</th>\n      <th>bathrooms</th>\n      <th>sqft_living</th>\n      <th>sqft_lot</th>\n      <th>floors</th>\n      <th>waterfront</th>\n      <th>view</th>\n      <th>condition</th>\n      <th>...</th>\n      <th>sqft_above</th>\n      <th>sqft_basement</th>\n      <th>yr_built</th>\n      <th>yr_renovated</th>\n      <th>sqft_living15</th>\n      <th>sqft_lot15</th>\n      <th>price_per_sq_lot</th>\n      <th>delta_renovated</th>\n      <th>year_sold</th>\n      <th>month_sold</th>\n    </tr>\n  </thead>\n  <tbody>\n    <tr>\n      <th>0</th>\n      <td>7129300520</td>\n      <td>221900.0</td>\n      <td>3</td>\n      <td>1.00</td>\n      <td>1180</td>\n      <td>5650</td>\n      <td>1.0</td>\n      <td>0</td>\n      <td>0</td>\n      <td>3</td>\n      <td>...</td>\n      <td>1180</td>\n      <td>0</td>\n      <td>1955</td>\n      <td>0</td>\n      <td>1340</td>\n      <td>5650</td>\n      <td>39.274336</td>\n      <td>0</td>\n      <td>2014</td>\n      <td>10</td>\n    </tr>\n    <tr>\n      <th>1</th>\n      <td>6414100192</td>\n      <td>538000.0</td>\n      <td>3</td>\n      <td>2.25</td>\n      <td>2570</td>\n      <td>7242</td>\n      <td>2.0</td>\n      <td>0</td>\n      <td>0</td>\n      <td>3</td>\n      <td>...</td>\n      <td>2170</td>\n      <td>400</td>\n      <td>1951</td>\n      <td>1991</td>\n      <td>1690</td>\n      <td>7639</td>\n      <td>74.288870</td>\n      <td>40</td>\n      <td>2014</td>\n      <td>12</td>\n    </tr>\n    <tr>\n      <th>2</th>\n      <td>5631500400</td>\n      <td>180000.0</td>\n      <td>2</td>\n      <td>1.00</td>\n      <td>770</td>\n      <td>10000</td>\n      <td>1.0</td>\n      <td>0</td>\n      <td>0</td>\n      <td>3</td>\n      <td>...</td>\n      <td>770</td>\n      <td>0</td>\n      <td>1933</td>\n      <td>0</td>\n      <td>2720</td>\n      <td>8062</td>\n      <td>18.000000</td>\n      <td>0</td>\n      <td>2015</td>\n      <td>2</td>\n    </tr>\n    <tr>\n      <th>3</th>\n      <td>2487200875</td>\n      <td>604000.0</td>\n      <td>4</td>\n      <td>3.00</td>\n      <td>1960</td>\n      <td>5000</td>\n      <td>1.0</td>\n      <td>0</td>\n      <td>0</td>\n      <td>5</td>\n      <td>...</td>\n      <td>1050</td>\n      <td>910</td>\n      <td>1965</td>\n      <td>0</td>\n      <td>1360</td>\n      <td>5000</td>\n      <td>120.800000</td>\n      <td>0</td>\n      <td>2014</td>\n      <td>12</td>\n    </tr>\n    <tr>\n      <th>4</th>\n      <td>1954400510</td>\n      <td>510000.0</td>\n      <td>3</td>\n      <td>2.00</td>\n      <td>1680</td>\n      <td>8080</td>\n      <td>1.0</td>\n      <td>0</td>\n      <td>0</td>\n      <td>3</td>\n      <td>...</td>\n      <td>1680</td>\n      <td>0</td>\n      <td>1987</td>\n      <td>0</td>\n      <td>1800</td>\n      <td>7503</td>\n      <td>63.118812</td>\n      <td>0</td>\n      <td>2015</td>\n      <td>2</td>\n    </tr>\n    <tr>\n      <th>5</th>\n      <td>7237550310</td>\n      <td>1225000.0</td>\n      <td>4</td>\n      <td>4.50</td>\n      <td>5420</td>\n      <td>101930</td>\n      <td>1.0</td>\n      <td>0</td>\n      <td>0</td>\n      <td>3</td>\n      <td>...</td>\n      <td>3890</td>\n      <td>1530</td>\n      <td>2001</td>\n      <td>0</td>\n      <td>4760</td>\n      <td>101930</td>\n      <td>12.018052</td>\n      <td>0</td>\n      <td>2014</td>\n      <td>5</td>\n    </tr>\n    <tr>\n      <th>6</th>\n      <td>1321400060</td>\n      <td>257500.0</td>\n      <td>3</td>\n      <td>2.25</td>\n      <td>1715</td>\n      <td>6819</td>\n      <td>2.0</td>\n      <td>0</td>\n      <td>0</td>\n      <td>3</td>\n      <td>...</td>\n      <td>1715</td>\n      <td>0</td>\n      <td>1995</td>\n      <td>0</td>\n      <td>2238</td>\n      <td>6819</td>\n      <td>37.762135</td>\n      <td>0</td>\n      <td>2014</td>\n      <td>6</td>\n    </tr>\n    <tr>\n      <th>7</th>\n      <td>2008000270</td>\n      <td>291850.0</td>\n      <td>3</td>\n      <td>1.50</td>\n      <td>1060</td>\n      <td>9711</td>\n      <td>1.0</td>\n      <td>0</td>\n      <td>0</td>\n      <td>3</td>\n      <td>...</td>\n      <td>1060</td>\n      <td>0</td>\n      <td>1963</td>\n      <td>0</td>\n      <td>1650</td>\n      <td>9711</td>\n      <td>30.053548</td>\n      <td>0</td>\n      <td>2015</td>\n      <td>1</td>\n    </tr>\n    <tr>\n      <th>8</th>\n      <td>2414600126</td>\n      <td>229500.0</td>\n      <td>3</td>\n      <td>1.00</td>\n      <td>1780</td>\n      <td>7470</td>\n      <td>1.0</td>\n      <td>0</td>\n      <td>0</td>\n      <td>3</td>\n      <td>...</td>\n      <td>1050</td>\n      <td>730</td>\n      <td>1960</td>\n      <td>0</td>\n      <td>1780</td>\n      <td>8113</td>\n      <td>30.722892</td>\n      <td>0</td>\n      <td>2015</td>\n      <td>4</td>\n    </tr>\n    <tr>\n      <th>9</th>\n      <td>3793500160</td>\n      <td>323000.0</td>\n      <td>3</td>\n      <td>2.50</td>\n      <td>1890</td>\n      <td>6560</td>\n      <td>2.0</td>\n      <td>0</td>\n      <td>0</td>\n      <td>3</td>\n      <td>...</td>\n      <td>1890</td>\n      <td>0</td>\n      <td>2003</td>\n      <td>0</td>\n      <td>2390</td>\n      <td>7570</td>\n      <td>49.237805</td>\n      <td>0</td>\n      <td>2015</td>\n      <td>3</td>\n    </tr>\n  </tbody>\n</table>\n<p>10 rows × 21 columns</p>\n</div>"
     },
     "execution_count": 12,
     "metadata": {},
     "output_type": "execute_result"
    }
   ],
   "source": [
    "df = df.drop(['date', 'zipcode', 'lat', 'long'], axis=1)\n",
    "df.head(10)"
   ],
   "metadata": {
    "collapsed": false
   }
  },
  {
   "cell_type": "markdown",
   "source": [
    "## Задача 2"
   ],
   "metadata": {
    "collapsed": false
   }
  },
  {
   "cell_type": "markdown",
   "source": [
    "Создайте датафрейм с клиентами:\n",
    "clients = pd.DataFrame({\n",
    "'client_id': [1459, 4684, 3498, 3942, 4535, 2308, 2866, 2765, 1472, 4236, 2295,\n",
    "939, 3840, 280, 20, 4332, 3475, 4213, 3113, 4809, 2134, 2242,\n",
    "2068, 4929, 1384, 1589, 3317, 2260, 1727, 1764, 1611, 1474],\n",
    "'house_id': [8965450190, 6823100225, 5104540330, 2131701075, 1522700060,\n",
    "1189000207, 6821600300, 7137950720, 9510920050, 6131600255,\n",
    "5428000070, 1788800910, 8100400160, 3123049142, 6306800010,\n",
    "5083000375, 7920100025, 1951600150, 809001400, 339600110,\n",
    "1622049154, 1099600250, 8563000110, 2768100205, 3995700435,\n",
    "8861700030, 3303980210, 7731100066, 8146100580, 825069097,\n",
    "3889100029, 9524100196]\n",
    "})\n",
    "\n",
    "1. Присоедините к таблице clients данные по домам через метод join\n",
    "2. Присоедините к таблице clients данные по домам через метод merge\n",
    "_Это нужно, чтобы понимать, какие дома покупались клиентами_\n",
    "_house_id - это индексы датафрейма с домами_"
   ],
   "metadata": {
    "collapsed": false
   }
  },
  {
   "cell_type": "code",
   "execution_count": 13,
   "outputs": [
    {
     "data": {
      "text/plain": "   client_id    house_id\n0       1459  8965450190\n1       4684  6823100225\n2       3498  5104540330\n3       3942  2131701075\n4       4535  1522700060",
      "text/html": "<div>\n<style scoped>\n    .dataframe tbody tr th:only-of-type {\n        vertical-align: middle;\n    }\n\n    .dataframe tbody tr th {\n        vertical-align: top;\n    }\n\n    .dataframe thead th {\n        text-align: right;\n    }\n</style>\n<table border=\"1\" class=\"dataframe\">\n  <thead>\n    <tr style=\"text-align: right;\">\n      <th></th>\n      <th>client_id</th>\n      <th>house_id</th>\n    </tr>\n  </thead>\n  <tbody>\n    <tr>\n      <th>0</th>\n      <td>1459</td>\n      <td>8965450190</td>\n    </tr>\n    <tr>\n      <th>1</th>\n      <td>4684</td>\n      <td>6823100225</td>\n    </tr>\n    <tr>\n      <th>2</th>\n      <td>3498</td>\n      <td>5104540330</td>\n    </tr>\n    <tr>\n      <th>3</th>\n      <td>3942</td>\n      <td>2131701075</td>\n    </tr>\n    <tr>\n      <th>4</th>\n      <td>4535</td>\n      <td>1522700060</td>\n    </tr>\n  </tbody>\n</table>\n</div>"
     },
     "execution_count": 13,
     "metadata": {},
     "output_type": "execute_result"
    }
   ],
   "source": [
    "clients = pd.DataFrame({\n",
    "    'client_id': [1459, 4684, 3498, 3942, 4535, 2308, 2866, 2765, 1472, 4236, 2295,\n",
    "                  939, 3840, 280, 20, 4332, 3475, 4213, 3113, 4809, 2134, 2242,\n",
    "                  2068, 4929, 1384, 1589, 3317, 2260, 1727, 1764, 1611, 1474],\n",
    "    'house_id': [8965450190, 6823100225, 5104540330, 2131701075, 1522700060,\n",
    "                 1189000207, 6821600300, 7137950720, 9510920050, 6131600255,\n",
    "                 5428000070, 1788800910, 8100400160, 3123049142, 6306800010,\n",
    "                 5083000375, 7920100025, 1951600150, 809001400, 339600110,\n",
    "                 1622049154, 1099600250, 8563000110, 2768100205, 3995700435,\n",
    "                 8861700030, 3303980210, 7731100066, 8146100580, 825069097,\n",
    "                 3889100029, 9524100196]\n",
    "})\n",
    "clients.head()"
   ],
   "metadata": {
    "collapsed": false
   }
  },
  {
   "cell_type": "markdown",
   "source": [
    "### 1. Присоедините к таблице clients данные по домам через метод join"
   ],
   "metadata": {
    "collapsed": false
   }
  },
  {
   "cell_type": "code",
   "execution_count": 46,
   "outputs": [
    {
     "data": {
      "text/plain": "   client_id    house_id     price  bedrooms  bathrooms  sqft_living  \\\n0       1459  8965450190  295000.0         3       2.50         1500   \n1       4684  6823100225  700000.0         4       1.75         1870   \n2       3498  5104540330  679000.0         4       2.50         3680   \n3       3942  2131701075  420000.0         3       1.75         1720   \n4       4535  1522700060  518000.0         4       2.75         2520   \n5       2308  1189000207  387000.0         2       2.50         1170   \n6       2866  6821600300  886000.0         3       2.25         2380   \n7       2765  7137950720  339100.0         4       2.50         2350   \n8       1472  9510920050  725000.0         3       2.50         2980   \n9       4236  6131600255  202500.0         3       2.00         1540   \n\n   sqft_lot  floors  waterfront  view  ...  sqft_above  sqft_basement  \\\n0      3060     2.0           0     0  ...        1500              0   \n1      6000     1.0           0     0  ...        1670            200   \n2      7236     2.0           0     0  ...        3680              0   \n3      5000     1.5           0     0  ...        1720              0   \n4     14021     2.0           0     0  ...        2520              0   \n5      1394     2.0           0     0  ...        1170              0   \n6      6000     2.0           0     0  ...        1650            730   \n7     10655     2.0           0     0  ...        2350              0   \n8     16996     2.0           0     0  ...        2980              0   \n9      8316     1.0           0     0  ...        1540              0   \n\n   yr_built  yr_renovated  sqft_living15  sqft_lot15  price_per_sq_lot  \\\n0      1994             0           2700        7734         96.405229   \n1      1949             0           1710        6000        116.666667   \n2      2006             0           3310        7180         93.836374   \n3      1932          2009           1410        8300         84.000000   \n4      1999             0           2330       14007         36.944583   \n5      2001             0           1250        3136        277.618364   \n6      1931             0           2000        6000        147.666667   \n7      1992             0           2210        7028         31.825434   \n8      1992             0           2980       15438         42.657096   \n9      1954             0           1250        8316         24.350649   \n\n   delta_renovated  year_sold  month_sold  \n0                0       2015           2  \n1                0       2015           4  \n2                0       2015           5  \n3               77       2014          12  \n4                0       2014           6  \n5                0       2014          10  \n6                0       2015           3  \n7                0       2015           3  \n8                0       2014           9  \n9                0       2014          12  \n\n[10 rows x 22 columns]",
      "text/html": "<div>\n<style scoped>\n    .dataframe tbody tr th:only-of-type {\n        vertical-align: middle;\n    }\n\n    .dataframe tbody tr th {\n        vertical-align: top;\n    }\n\n    .dataframe thead th {\n        text-align: right;\n    }\n</style>\n<table border=\"1\" class=\"dataframe\">\n  <thead>\n    <tr style=\"text-align: right;\">\n      <th></th>\n      <th>client_id</th>\n      <th>house_id</th>\n      <th>price</th>\n      <th>bedrooms</th>\n      <th>bathrooms</th>\n      <th>sqft_living</th>\n      <th>sqft_lot</th>\n      <th>floors</th>\n      <th>waterfront</th>\n      <th>view</th>\n      <th>...</th>\n      <th>sqft_above</th>\n      <th>sqft_basement</th>\n      <th>yr_built</th>\n      <th>yr_renovated</th>\n      <th>sqft_living15</th>\n      <th>sqft_lot15</th>\n      <th>price_per_sq_lot</th>\n      <th>delta_renovated</th>\n      <th>year_sold</th>\n      <th>month_sold</th>\n    </tr>\n  </thead>\n  <tbody>\n    <tr>\n      <th>0</th>\n      <td>1459</td>\n      <td>8965450190</td>\n      <td>295000.0</td>\n      <td>3</td>\n      <td>2.50</td>\n      <td>1500</td>\n      <td>3060</td>\n      <td>2.0</td>\n      <td>0</td>\n      <td>0</td>\n      <td>...</td>\n      <td>1500</td>\n      <td>0</td>\n      <td>1994</td>\n      <td>0</td>\n      <td>2700</td>\n      <td>7734</td>\n      <td>96.405229</td>\n      <td>0</td>\n      <td>2015</td>\n      <td>2</td>\n    </tr>\n    <tr>\n      <th>1</th>\n      <td>4684</td>\n      <td>6823100225</td>\n      <td>700000.0</td>\n      <td>4</td>\n      <td>1.75</td>\n      <td>1870</td>\n      <td>6000</td>\n      <td>1.0</td>\n      <td>0</td>\n      <td>0</td>\n      <td>...</td>\n      <td>1670</td>\n      <td>200</td>\n      <td>1949</td>\n      <td>0</td>\n      <td>1710</td>\n      <td>6000</td>\n      <td>116.666667</td>\n      <td>0</td>\n      <td>2015</td>\n      <td>4</td>\n    </tr>\n    <tr>\n      <th>2</th>\n      <td>3498</td>\n      <td>5104540330</td>\n      <td>679000.0</td>\n      <td>4</td>\n      <td>2.50</td>\n      <td>3680</td>\n      <td>7236</td>\n      <td>2.0</td>\n      <td>0</td>\n      <td>0</td>\n      <td>...</td>\n      <td>3680</td>\n      <td>0</td>\n      <td>2006</td>\n      <td>0</td>\n      <td>3310</td>\n      <td>7180</td>\n      <td>93.836374</td>\n      <td>0</td>\n      <td>2015</td>\n      <td>5</td>\n    </tr>\n    <tr>\n      <th>3</th>\n      <td>3942</td>\n      <td>2131701075</td>\n      <td>420000.0</td>\n      <td>3</td>\n      <td>1.75</td>\n      <td>1720</td>\n      <td>5000</td>\n      <td>1.5</td>\n      <td>0</td>\n      <td>0</td>\n      <td>...</td>\n      <td>1720</td>\n      <td>0</td>\n      <td>1932</td>\n      <td>2009</td>\n      <td>1410</td>\n      <td>8300</td>\n      <td>84.000000</td>\n      <td>77</td>\n      <td>2014</td>\n      <td>12</td>\n    </tr>\n    <tr>\n      <th>4</th>\n      <td>4535</td>\n      <td>1522700060</td>\n      <td>518000.0</td>\n      <td>4</td>\n      <td>2.75</td>\n      <td>2520</td>\n      <td>14021</td>\n      <td>2.0</td>\n      <td>0</td>\n      <td>0</td>\n      <td>...</td>\n      <td>2520</td>\n      <td>0</td>\n      <td>1999</td>\n      <td>0</td>\n      <td>2330</td>\n      <td>14007</td>\n      <td>36.944583</td>\n      <td>0</td>\n      <td>2014</td>\n      <td>6</td>\n    </tr>\n    <tr>\n      <th>5</th>\n      <td>2308</td>\n      <td>1189000207</td>\n      <td>387000.0</td>\n      <td>2</td>\n      <td>2.50</td>\n      <td>1170</td>\n      <td>1394</td>\n      <td>2.0</td>\n      <td>0</td>\n      <td>0</td>\n      <td>...</td>\n      <td>1170</td>\n      <td>0</td>\n      <td>2001</td>\n      <td>0</td>\n      <td>1250</td>\n      <td>3136</td>\n      <td>277.618364</td>\n      <td>0</td>\n      <td>2014</td>\n      <td>10</td>\n    </tr>\n    <tr>\n      <th>6</th>\n      <td>2866</td>\n      <td>6821600300</td>\n      <td>886000.0</td>\n      <td>3</td>\n      <td>2.25</td>\n      <td>2380</td>\n      <td>6000</td>\n      <td>2.0</td>\n      <td>0</td>\n      <td>0</td>\n      <td>...</td>\n      <td>1650</td>\n      <td>730</td>\n      <td>1931</td>\n      <td>0</td>\n      <td>2000</td>\n      <td>6000</td>\n      <td>147.666667</td>\n      <td>0</td>\n      <td>2015</td>\n      <td>3</td>\n    </tr>\n    <tr>\n      <th>7</th>\n      <td>2765</td>\n      <td>7137950720</td>\n      <td>339100.0</td>\n      <td>4</td>\n      <td>2.50</td>\n      <td>2350</td>\n      <td>10655</td>\n      <td>2.0</td>\n      <td>0</td>\n      <td>0</td>\n      <td>...</td>\n      <td>2350</td>\n      <td>0</td>\n      <td>1992</td>\n      <td>0</td>\n      <td>2210</td>\n      <td>7028</td>\n      <td>31.825434</td>\n      <td>0</td>\n      <td>2015</td>\n      <td>3</td>\n    </tr>\n    <tr>\n      <th>8</th>\n      <td>1472</td>\n      <td>9510920050</td>\n      <td>725000.0</td>\n      <td>3</td>\n      <td>2.50</td>\n      <td>2980</td>\n      <td>16996</td>\n      <td>2.0</td>\n      <td>0</td>\n      <td>0</td>\n      <td>...</td>\n      <td>2980</td>\n      <td>0</td>\n      <td>1992</td>\n      <td>0</td>\n      <td>2980</td>\n      <td>15438</td>\n      <td>42.657096</td>\n      <td>0</td>\n      <td>2014</td>\n      <td>9</td>\n    </tr>\n    <tr>\n      <th>9</th>\n      <td>4236</td>\n      <td>6131600255</td>\n      <td>202500.0</td>\n      <td>3</td>\n      <td>2.00</td>\n      <td>1540</td>\n      <td>8316</td>\n      <td>1.0</td>\n      <td>0</td>\n      <td>0</td>\n      <td>...</td>\n      <td>1540</td>\n      <td>0</td>\n      <td>1954</td>\n      <td>0</td>\n      <td>1250</td>\n      <td>8316</td>\n      <td>24.350649</td>\n      <td>0</td>\n      <td>2014</td>\n      <td>12</td>\n    </tr>\n  </tbody>\n</table>\n<p>10 rows × 22 columns</p>\n</div>"
     },
     "execution_count": 46,
     "metadata": {},
     "output_type": "execute_result"
    }
   ],
   "source": [
    "clients_id = clients.set_index('client_id')\n",
    "df_02_1 = clients_id.join(df.set_index('id'), on='house_id').reset_index()\n",
    "df_02_1.head(10)"
   ],
   "metadata": {
    "collapsed": false
   }
  },
  {
   "cell_type": "markdown",
   "source": [
    "### 2. Присоедините к таблице clients данные по домам через метод merge"
   ],
   "metadata": {
    "collapsed": false
   }
  },
  {
   "cell_type": "markdown",
   "source": [
    "_Это нужно, чтобы понимать, какие дома покупались клиентами_\n",
    "_house_id - это индексы датафрейма с домами_"
   ],
   "metadata": {
    "collapsed": false
   }
  },
  {
   "cell_type": "code",
   "execution_count": 41,
   "outputs": [
    {
     "data": {
      "text/plain": "   client_id    house_id          id     price  bedrooms  bathrooms  \\\n0       1459  8965450190  8965450190  295000.0         3       2.50   \n1       4684  6823100225  6823100225  700000.0         4       1.75   \n2       3498  5104540330  5104540330  679000.0         4       2.50   \n3       3942  2131701075  2131701075  420000.0         3       1.75   \n4       4535  1522700060  1522700060  518000.0         4       2.75   \n5       2308  1189000207  1189000207  387000.0         2       2.50   \n6       2866  6821600300  6821600300  886000.0         3       2.25   \n7       2765  7137950720  7137950720  339100.0         4       2.50   \n8       1472  9510920050  9510920050  725000.0         3       2.50   \n9       4236  6131600255  6131600255  202500.0         3       2.00   \n\n   sqft_living  sqft_lot  floors  waterfront  ...  sqft_above  sqft_basement  \\\n0         1500      3060     2.0           0  ...        1500              0   \n1         1870      6000     1.0           0  ...        1670            200   \n2         3680      7236     2.0           0  ...        3680              0   \n3         1720      5000     1.5           0  ...        1720              0   \n4         2520     14021     2.0           0  ...        2520              0   \n5         1170      1394     2.0           0  ...        1170              0   \n6         2380      6000     2.0           0  ...        1650            730   \n7         2350     10655     2.0           0  ...        2350              0   \n8         2980     16996     2.0           0  ...        2980              0   \n9         1540      8316     1.0           0  ...        1540              0   \n\n   yr_built  yr_renovated  sqft_living15  sqft_lot15  price_per_sq_lot  \\\n0      1994             0           2700        7734         96.405229   \n1      1949             0           1710        6000        116.666667   \n2      2006             0           3310        7180         93.836374   \n3      1932          2009           1410        8300         84.000000   \n4      1999             0           2330       14007         36.944583   \n5      2001             0           1250        3136        277.618364   \n6      1931             0           2000        6000        147.666667   \n7      1992             0           2210        7028         31.825434   \n8      1992             0           2980       15438         42.657096   \n9      1954             0           1250        8316         24.350649   \n\n   delta_renovated  year_sold  month_sold  \n0                0       2015           2  \n1                0       2015           4  \n2                0       2015           5  \n3               77       2014          12  \n4                0       2014           6  \n5                0       2014          10  \n6                0       2015           3  \n7                0       2015           3  \n8                0       2014           9  \n9                0       2014          12  \n\n[10 rows x 23 columns]",
      "text/html": "<div>\n<style scoped>\n    .dataframe tbody tr th:only-of-type {\n        vertical-align: middle;\n    }\n\n    .dataframe tbody tr th {\n        vertical-align: top;\n    }\n\n    .dataframe thead th {\n        text-align: right;\n    }\n</style>\n<table border=\"1\" class=\"dataframe\">\n  <thead>\n    <tr style=\"text-align: right;\">\n      <th></th>\n      <th>client_id</th>\n      <th>house_id</th>\n      <th>id</th>\n      <th>price</th>\n      <th>bedrooms</th>\n      <th>bathrooms</th>\n      <th>sqft_living</th>\n      <th>sqft_lot</th>\n      <th>floors</th>\n      <th>waterfront</th>\n      <th>...</th>\n      <th>sqft_above</th>\n      <th>sqft_basement</th>\n      <th>yr_built</th>\n      <th>yr_renovated</th>\n      <th>sqft_living15</th>\n      <th>sqft_lot15</th>\n      <th>price_per_sq_lot</th>\n      <th>delta_renovated</th>\n      <th>year_sold</th>\n      <th>month_sold</th>\n    </tr>\n  </thead>\n  <tbody>\n    <tr>\n      <th>0</th>\n      <td>1459</td>\n      <td>8965450190</td>\n      <td>8965450190</td>\n      <td>295000.0</td>\n      <td>3</td>\n      <td>2.50</td>\n      <td>1500</td>\n      <td>3060</td>\n      <td>2.0</td>\n      <td>0</td>\n      <td>...</td>\n      <td>1500</td>\n      <td>0</td>\n      <td>1994</td>\n      <td>0</td>\n      <td>2700</td>\n      <td>7734</td>\n      <td>96.405229</td>\n      <td>0</td>\n      <td>2015</td>\n      <td>2</td>\n    </tr>\n    <tr>\n      <th>1</th>\n      <td>4684</td>\n      <td>6823100225</td>\n      <td>6823100225</td>\n      <td>700000.0</td>\n      <td>4</td>\n      <td>1.75</td>\n      <td>1870</td>\n      <td>6000</td>\n      <td>1.0</td>\n      <td>0</td>\n      <td>...</td>\n      <td>1670</td>\n      <td>200</td>\n      <td>1949</td>\n      <td>0</td>\n      <td>1710</td>\n      <td>6000</td>\n      <td>116.666667</td>\n      <td>0</td>\n      <td>2015</td>\n      <td>4</td>\n    </tr>\n    <tr>\n      <th>2</th>\n      <td>3498</td>\n      <td>5104540330</td>\n      <td>5104540330</td>\n      <td>679000.0</td>\n      <td>4</td>\n      <td>2.50</td>\n      <td>3680</td>\n      <td>7236</td>\n      <td>2.0</td>\n      <td>0</td>\n      <td>...</td>\n      <td>3680</td>\n      <td>0</td>\n      <td>2006</td>\n      <td>0</td>\n      <td>3310</td>\n      <td>7180</td>\n      <td>93.836374</td>\n      <td>0</td>\n      <td>2015</td>\n      <td>5</td>\n    </tr>\n    <tr>\n      <th>3</th>\n      <td>3942</td>\n      <td>2131701075</td>\n      <td>2131701075</td>\n      <td>420000.0</td>\n      <td>3</td>\n      <td>1.75</td>\n      <td>1720</td>\n      <td>5000</td>\n      <td>1.5</td>\n      <td>0</td>\n      <td>...</td>\n      <td>1720</td>\n      <td>0</td>\n      <td>1932</td>\n      <td>2009</td>\n      <td>1410</td>\n      <td>8300</td>\n      <td>84.000000</td>\n      <td>77</td>\n      <td>2014</td>\n      <td>12</td>\n    </tr>\n    <tr>\n      <th>4</th>\n      <td>4535</td>\n      <td>1522700060</td>\n      <td>1522700060</td>\n      <td>518000.0</td>\n      <td>4</td>\n      <td>2.75</td>\n      <td>2520</td>\n      <td>14021</td>\n      <td>2.0</td>\n      <td>0</td>\n      <td>...</td>\n      <td>2520</td>\n      <td>0</td>\n      <td>1999</td>\n      <td>0</td>\n      <td>2330</td>\n      <td>14007</td>\n      <td>36.944583</td>\n      <td>0</td>\n      <td>2014</td>\n      <td>6</td>\n    </tr>\n    <tr>\n      <th>5</th>\n      <td>2308</td>\n      <td>1189000207</td>\n      <td>1189000207</td>\n      <td>387000.0</td>\n      <td>2</td>\n      <td>2.50</td>\n      <td>1170</td>\n      <td>1394</td>\n      <td>2.0</td>\n      <td>0</td>\n      <td>...</td>\n      <td>1170</td>\n      <td>0</td>\n      <td>2001</td>\n      <td>0</td>\n      <td>1250</td>\n      <td>3136</td>\n      <td>277.618364</td>\n      <td>0</td>\n      <td>2014</td>\n      <td>10</td>\n    </tr>\n    <tr>\n      <th>6</th>\n      <td>2866</td>\n      <td>6821600300</td>\n      <td>6821600300</td>\n      <td>886000.0</td>\n      <td>3</td>\n      <td>2.25</td>\n      <td>2380</td>\n      <td>6000</td>\n      <td>2.0</td>\n      <td>0</td>\n      <td>...</td>\n      <td>1650</td>\n      <td>730</td>\n      <td>1931</td>\n      <td>0</td>\n      <td>2000</td>\n      <td>6000</td>\n      <td>147.666667</td>\n      <td>0</td>\n      <td>2015</td>\n      <td>3</td>\n    </tr>\n    <tr>\n      <th>7</th>\n      <td>2765</td>\n      <td>7137950720</td>\n      <td>7137950720</td>\n      <td>339100.0</td>\n      <td>4</td>\n      <td>2.50</td>\n      <td>2350</td>\n      <td>10655</td>\n      <td>2.0</td>\n      <td>0</td>\n      <td>...</td>\n      <td>2350</td>\n      <td>0</td>\n      <td>1992</td>\n      <td>0</td>\n      <td>2210</td>\n      <td>7028</td>\n      <td>31.825434</td>\n      <td>0</td>\n      <td>2015</td>\n      <td>3</td>\n    </tr>\n    <tr>\n      <th>8</th>\n      <td>1472</td>\n      <td>9510920050</td>\n      <td>9510920050</td>\n      <td>725000.0</td>\n      <td>3</td>\n      <td>2.50</td>\n      <td>2980</td>\n      <td>16996</td>\n      <td>2.0</td>\n      <td>0</td>\n      <td>...</td>\n      <td>2980</td>\n      <td>0</td>\n      <td>1992</td>\n      <td>0</td>\n      <td>2980</td>\n      <td>15438</td>\n      <td>42.657096</td>\n      <td>0</td>\n      <td>2014</td>\n      <td>9</td>\n    </tr>\n    <tr>\n      <th>9</th>\n      <td>4236</td>\n      <td>6131600255</td>\n      <td>6131600255</td>\n      <td>202500.0</td>\n      <td>3</td>\n      <td>2.00</td>\n      <td>1540</td>\n      <td>8316</td>\n      <td>1.0</td>\n      <td>0</td>\n      <td>...</td>\n      <td>1540</td>\n      <td>0</td>\n      <td>1954</td>\n      <td>0</td>\n      <td>1250</td>\n      <td>8316</td>\n      <td>24.350649</td>\n      <td>0</td>\n      <td>2014</td>\n      <td>12</td>\n    </tr>\n  </tbody>\n</table>\n<p>10 rows × 23 columns</p>\n</div>"
     },
     "execution_count": 41,
     "metadata": {},
     "output_type": "execute_result"
    }
   ],
   "source": [
    "df_02_2 = clients.merge(df, left_on='house_id', right_on='id')\n",
    "df_02_2.head(10)"
   ],
   "metadata": {
    "collapsed": false
   }
  },
  {
   "cell_type": "markdown",
   "source": [
    "## Задача 3"
   ],
   "metadata": {
    "collapsed": false
   }
  },
  {
   "cell_type": "markdown",
   "source": [
    "_Составьте несколько сводных таблиц:_\n",
    "1. Найдите среднюю стоимость домов в зависимости от количества спален\n",
    "_Отсортируйте от меньшей стоимости к большей_\n",
    "2. Найдите минимальную, среднюю и максимальную стоимости домов в зависимости от состояния дома\n",
    "3. Постройте таблицу с подсчетом количества домов в данных в зависимости от вида на набережную и оценкой вида\n",
    "4. Каких домов в зависимости от этажности и количества спален больше?\n",
    "5. Постройте таблицу с подсчетом медианной стоимости домов в данных в зависимости от состояния дома и оценки дома"
   ],
   "metadata": {
    "collapsed": false
   }
  },
  {
   "cell_type": "markdown",
   "source": [
    "### 1. Найдите среднюю стоимость домов в зависимости от количества спален\n",
    "_Отсортируйте от меньшей стоимости к большей_"
   ],
   "metadata": {
    "collapsed": false
   }
  },
  {
   "cell_type": "code",
   "execution_count": 47,
   "outputs": [
    {
     "data": {
      "text/plain": "bedrooms\n1     3.176429e+05\n2     4.013727e+05\n0     4.095038e+05\n3     4.662321e+05\n11    5.200000e+05\n4     6.354195e+05\n33    6.400000e+05\n5     7.865998e+05\n10    8.193333e+05\n6     8.255206e+05\n9     8.939998e+05\n7     9.511847e+05\n8     1.105077e+06\nName: price, dtype: float64"
     },
     "execution_count": 47,
     "metadata": {},
     "output_type": "execute_result"
    }
   ],
   "source": [
    "df.groupby('bedrooms')['price'].mean().sort_values()"
   ],
   "metadata": {
    "collapsed": false
   }
  },
  {
   "cell_type": "markdown",
   "source": [
    "### 2. Найдите минимальную, среднюю и максимальную стоимости домов в зависимости от состояния дома"
   ],
   "metadata": {
    "collapsed": false
   }
  },
  {
   "cell_type": "code",
   "execution_count": 48,
   "outputs": [
    {
     "data": {
      "text/plain": "                min           mean        max\ncondition                                    \n1           78000.0  334431.666667  1500000.0\n2           80000.0  327287.145349  2555000.0\n3           75000.0  542012.578148  7062500.0\n4           89000.0  521200.390033  7700000.0\n5          110000.0  612418.089359  3650000.0",
      "text/html": "<div>\n<style scoped>\n    .dataframe tbody tr th:only-of-type {\n        vertical-align: middle;\n    }\n\n    .dataframe tbody tr th {\n        vertical-align: top;\n    }\n\n    .dataframe thead th {\n        text-align: right;\n    }\n</style>\n<table border=\"1\" class=\"dataframe\">\n  <thead>\n    <tr style=\"text-align: right;\">\n      <th></th>\n      <th>min</th>\n      <th>mean</th>\n      <th>max</th>\n    </tr>\n    <tr>\n      <th>condition</th>\n      <th></th>\n      <th></th>\n      <th></th>\n    </tr>\n  </thead>\n  <tbody>\n    <tr>\n      <th>1</th>\n      <td>78000.0</td>\n      <td>334431.666667</td>\n      <td>1500000.0</td>\n    </tr>\n    <tr>\n      <th>2</th>\n      <td>80000.0</td>\n      <td>327287.145349</td>\n      <td>2555000.0</td>\n    </tr>\n    <tr>\n      <th>3</th>\n      <td>75000.0</td>\n      <td>542012.578148</td>\n      <td>7062500.0</td>\n    </tr>\n    <tr>\n      <th>4</th>\n      <td>89000.0</td>\n      <td>521200.390033</td>\n      <td>7700000.0</td>\n    </tr>\n    <tr>\n      <th>5</th>\n      <td>110000.0</td>\n      <td>612418.089359</td>\n      <td>3650000.0</td>\n    </tr>\n  </tbody>\n</table>\n</div>"
     },
     "execution_count": 48,
     "metadata": {},
     "output_type": "execute_result"
    }
   ],
   "source": [
    "df.groupby('condition')['price'].agg(['min', 'mean', 'max'])"
   ],
   "metadata": {
    "collapsed": false
   }
  },
  {
   "cell_type": "markdown",
   "source": [
    "### 3. Постройте таблицу с подсчетом количества домов в данных в зависимости от вида на набережную и оценкой вида"
   ],
   "metadata": {
    "collapsed": false
   }
  },
  {
   "cell_type": "code",
   "execution_count": 53,
   "outputs": [
    {
     "data": {
      "text/plain": "view            0    1    2    3    4\nwaterfront                           \n0           19489  331  955  491  184\n1               0    1    8   19  135",
      "text/html": "<div>\n<style scoped>\n    .dataframe tbody tr th:only-of-type {\n        vertical-align: middle;\n    }\n\n    .dataframe tbody tr th {\n        vertical-align: top;\n    }\n\n    .dataframe thead th {\n        text-align: right;\n    }\n</style>\n<table border=\"1\" class=\"dataframe\">\n  <thead>\n    <tr style=\"text-align: right;\">\n      <th>view</th>\n      <th>0</th>\n      <th>1</th>\n      <th>2</th>\n      <th>3</th>\n      <th>4</th>\n    </tr>\n    <tr>\n      <th>waterfront</th>\n      <th></th>\n      <th></th>\n      <th></th>\n      <th></th>\n      <th></th>\n    </tr>\n  </thead>\n  <tbody>\n    <tr>\n      <th>0</th>\n      <td>19489</td>\n      <td>331</td>\n      <td>955</td>\n      <td>491</td>\n      <td>184</td>\n    </tr>\n    <tr>\n      <th>1</th>\n      <td>0</td>\n      <td>1</td>\n      <td>8</td>\n      <td>19</td>\n      <td>135</td>\n    </tr>\n  </tbody>\n</table>\n</div>"
     },
     "execution_count": 53,
     "metadata": {},
     "output_type": "execute_result"
    }
   ],
   "source": [
    "df.pivot_table(index='waterfront', columns='view', values='id', aggfunc='count', fill_value=0)"
   ],
   "metadata": {
    "collapsed": false
   }
  },
  {
   "cell_type": "markdown",
   "source": [
    "### 4. Каких домов в зависимости от этажности и количества спален больше?"
   ],
   "metadata": {
    "collapsed": false
   }
  },
  {
   "cell_type": "code",
   "execution_count": 60,
   "outputs": [
    {
     "data": {
      "text/plain": "bedrooms   0    1     2     3     4     5    6   7   8  9  10  11  33  Total\nfloors                                                                      \n1.0        4  162  1951  5455  2383   605  104   9   5  0   1   0   1  10680\n1.5        0   21   182   786   698   185   30   7   1  0   0   0   0   1910\n2.0        6   12   497  3118  3682   775  119  19   6  4   2   1   0   8241\n2.5        0    1     5    56    58    23   14   2   0  2   0   0   0    161\n3.0        2    3   123   405    61    13    5   1   0  0   0   0   0    613\n3.5        1    0     2     4     0     0    0   0   1  0   0   0   0      8\nTotal     13  199  2760  9824  6882  1601  272  38  13  6   3   1   1  21613",
      "text/html": "<div>\n<style scoped>\n    .dataframe tbody tr th:only-of-type {\n        vertical-align: middle;\n    }\n\n    .dataframe tbody tr th {\n        vertical-align: top;\n    }\n\n    .dataframe thead th {\n        text-align: right;\n    }\n</style>\n<table border=\"1\" class=\"dataframe\">\n  <thead>\n    <tr style=\"text-align: right;\">\n      <th>bedrooms</th>\n      <th>0</th>\n      <th>1</th>\n      <th>2</th>\n      <th>3</th>\n      <th>4</th>\n      <th>5</th>\n      <th>6</th>\n      <th>7</th>\n      <th>8</th>\n      <th>9</th>\n      <th>10</th>\n      <th>11</th>\n      <th>33</th>\n      <th>Total</th>\n    </tr>\n    <tr>\n      <th>floors</th>\n      <th></th>\n      <th></th>\n      <th></th>\n      <th></th>\n      <th></th>\n      <th></th>\n      <th></th>\n      <th></th>\n      <th></th>\n      <th></th>\n      <th></th>\n      <th></th>\n      <th></th>\n      <th></th>\n    </tr>\n  </thead>\n  <tbody>\n    <tr>\n      <th>1.0</th>\n      <td>4</td>\n      <td>162</td>\n      <td>1951</td>\n      <td>5455</td>\n      <td>2383</td>\n      <td>605</td>\n      <td>104</td>\n      <td>9</td>\n      <td>5</td>\n      <td>0</td>\n      <td>1</td>\n      <td>0</td>\n      <td>1</td>\n      <td>10680</td>\n    </tr>\n    <tr>\n      <th>1.5</th>\n      <td>0</td>\n      <td>21</td>\n      <td>182</td>\n      <td>786</td>\n      <td>698</td>\n      <td>185</td>\n      <td>30</td>\n      <td>7</td>\n      <td>1</td>\n      <td>0</td>\n      <td>0</td>\n      <td>0</td>\n      <td>0</td>\n      <td>1910</td>\n    </tr>\n    <tr>\n      <th>2.0</th>\n      <td>6</td>\n      <td>12</td>\n      <td>497</td>\n      <td>3118</td>\n      <td>3682</td>\n      <td>775</td>\n      <td>119</td>\n      <td>19</td>\n      <td>6</td>\n      <td>4</td>\n      <td>2</td>\n      <td>1</td>\n      <td>0</td>\n      <td>8241</td>\n    </tr>\n    <tr>\n      <th>2.5</th>\n      <td>0</td>\n      <td>1</td>\n      <td>5</td>\n      <td>56</td>\n      <td>58</td>\n      <td>23</td>\n      <td>14</td>\n      <td>2</td>\n      <td>0</td>\n      <td>2</td>\n      <td>0</td>\n      <td>0</td>\n      <td>0</td>\n      <td>161</td>\n    </tr>\n    <tr>\n      <th>3.0</th>\n      <td>2</td>\n      <td>3</td>\n      <td>123</td>\n      <td>405</td>\n      <td>61</td>\n      <td>13</td>\n      <td>5</td>\n      <td>1</td>\n      <td>0</td>\n      <td>0</td>\n      <td>0</td>\n      <td>0</td>\n      <td>0</td>\n      <td>613</td>\n    </tr>\n    <tr>\n      <th>3.5</th>\n      <td>1</td>\n      <td>0</td>\n      <td>2</td>\n      <td>4</td>\n      <td>0</td>\n      <td>0</td>\n      <td>0</td>\n      <td>0</td>\n      <td>1</td>\n      <td>0</td>\n      <td>0</td>\n      <td>0</td>\n      <td>0</td>\n      <td>8</td>\n    </tr>\n    <tr>\n      <th>Total</th>\n      <td>13</td>\n      <td>199</td>\n      <td>2760</td>\n      <td>9824</td>\n      <td>6882</td>\n      <td>1601</td>\n      <td>272</td>\n      <td>38</td>\n      <td>13</td>\n      <td>6</td>\n      <td>3</td>\n      <td>1</td>\n      <td>1</td>\n      <td>21613</td>\n    </tr>\n  </tbody>\n</table>\n</div>"
     },
     "execution_count": 60,
     "metadata": {},
     "output_type": "execute_result"
    }
   ],
   "source": [
    "pd.crosstab(index=df['floors'], columns=df['bedrooms'], margins=True, margins_name='Total')"
   ],
   "metadata": {
    "collapsed": false
   }
  },
  {
   "cell_type": "code",
   "execution_count": 61,
   "outputs": [
    {
     "data": {
      "text/plain": "bedrooms   0    1     2     3     4     5    6   7   8  9  10  11  33  Total\nfloors                                                                      \n1.0        4  162  1951  5455  2383   605  104   9   5  0   1   0   1  10680\n1.5        0   21   182   786   698   185   30   7   1  0   0   0   0   1910\n2.0        6   12   497  3118  3682   775  119  19   6  4   2   1   0   8241\n2.5        0    1     5    56    58    23   14   2   0  2   0   0   0    161\n3.0        2    3   123   405    61    13    5   1   0  0   0   0   0    613\n3.5        1    0     2     4     0     0    0   0   1  0   0   0   0      8\nTotal     13  199  2760  9824  6882  1601  272  38  13  6   3   1   1  21613",
      "text/html": "<div>\n<style scoped>\n    .dataframe tbody tr th:only-of-type {\n        vertical-align: middle;\n    }\n\n    .dataframe tbody tr th {\n        vertical-align: top;\n    }\n\n    .dataframe thead th {\n        text-align: right;\n    }\n</style>\n<table border=\"1\" class=\"dataframe\">\n  <thead>\n    <tr style=\"text-align: right;\">\n      <th>bedrooms</th>\n      <th>0</th>\n      <th>1</th>\n      <th>2</th>\n      <th>3</th>\n      <th>4</th>\n      <th>5</th>\n      <th>6</th>\n      <th>7</th>\n      <th>8</th>\n      <th>9</th>\n      <th>10</th>\n      <th>11</th>\n      <th>33</th>\n      <th>Total</th>\n    </tr>\n    <tr>\n      <th>floors</th>\n      <th></th>\n      <th></th>\n      <th></th>\n      <th></th>\n      <th></th>\n      <th></th>\n      <th></th>\n      <th></th>\n      <th></th>\n      <th></th>\n      <th></th>\n      <th></th>\n      <th></th>\n      <th></th>\n    </tr>\n  </thead>\n  <tbody>\n    <tr>\n      <th>1.0</th>\n      <td>4</td>\n      <td>162</td>\n      <td>1951</td>\n      <td>5455</td>\n      <td>2383</td>\n      <td>605</td>\n      <td>104</td>\n      <td>9</td>\n      <td>5</td>\n      <td>0</td>\n      <td>1</td>\n      <td>0</td>\n      <td>1</td>\n      <td>10680</td>\n    </tr>\n    <tr>\n      <th>1.5</th>\n      <td>0</td>\n      <td>21</td>\n      <td>182</td>\n      <td>786</td>\n      <td>698</td>\n      <td>185</td>\n      <td>30</td>\n      <td>7</td>\n      <td>1</td>\n      <td>0</td>\n      <td>0</td>\n      <td>0</td>\n      <td>0</td>\n      <td>1910</td>\n    </tr>\n    <tr>\n      <th>2.0</th>\n      <td>6</td>\n      <td>12</td>\n      <td>497</td>\n      <td>3118</td>\n      <td>3682</td>\n      <td>775</td>\n      <td>119</td>\n      <td>19</td>\n      <td>6</td>\n      <td>4</td>\n      <td>2</td>\n      <td>1</td>\n      <td>0</td>\n      <td>8241</td>\n    </tr>\n    <tr>\n      <th>2.5</th>\n      <td>0</td>\n      <td>1</td>\n      <td>5</td>\n      <td>56</td>\n      <td>58</td>\n      <td>23</td>\n      <td>14</td>\n      <td>2</td>\n      <td>0</td>\n      <td>2</td>\n      <td>0</td>\n      <td>0</td>\n      <td>0</td>\n      <td>161</td>\n    </tr>\n    <tr>\n      <th>3.0</th>\n      <td>2</td>\n      <td>3</td>\n      <td>123</td>\n      <td>405</td>\n      <td>61</td>\n      <td>13</td>\n      <td>5</td>\n      <td>1</td>\n      <td>0</td>\n      <td>0</td>\n      <td>0</td>\n      <td>0</td>\n      <td>0</td>\n      <td>613</td>\n    </tr>\n    <tr>\n      <th>3.5</th>\n      <td>1</td>\n      <td>0</td>\n      <td>2</td>\n      <td>4</td>\n      <td>0</td>\n      <td>0</td>\n      <td>0</td>\n      <td>0</td>\n      <td>1</td>\n      <td>0</td>\n      <td>0</td>\n      <td>0</td>\n      <td>0</td>\n      <td>8</td>\n    </tr>\n    <tr>\n      <th>Total</th>\n      <td>13</td>\n      <td>199</td>\n      <td>2760</td>\n      <td>9824</td>\n      <td>6882</td>\n      <td>1601</td>\n      <td>272</td>\n      <td>38</td>\n      <td>13</td>\n      <td>6</td>\n      <td>3</td>\n      <td>1</td>\n      <td>1</td>\n      <td>21613</td>\n    </tr>\n  </tbody>\n</table>\n</div>"
     },
     "execution_count": 61,
     "metadata": {},
     "output_type": "execute_result"
    }
   ],
   "source": [
    "pd.pivot_table(df, index='floors', columns='bedrooms', values='id', aggfunc='count', fill_value=0, margins=True,\n",
    "               margins_name='Total')"
   ],
   "metadata": {
    "collapsed": false
   }
  },
  {
   "cell_type": "markdown",
   "source": [
    "### 5. Постройте таблицу с подсчетом медианной стоимости домов в данных в зависимости от состояния дома и оценки дома"
   ],
   "metadata": {
    "collapsed": false
   }
  },
  {
   "cell_type": "code",
   "execution_count": 95,
   "outputs": [
    {
     "data": {
      "text/plain": "grade           1       3       4        5        6        7        8  \\\ncondition                                                               \n1          142000       0  150000   190000   255000   403500   932500   \n2               0  280000  145000   180000   235000   305000   429000   \n3               0   75000  205000   234475   265000   357500   485000   \n4               0       0  238525   229975   295000   390000   571250   \n5               0  262000       0   227450   285475   456000   696000   \nTotal      142000  617000  738525  1061900  1335475  1912000  3113750   \n\ngrade            9       10       11       12       13     Total  \ncondition                                                         \n1                0        0        0        0        0   2073000  \n2           715000  1752500        0        0        0   4041500  \n3           689000   890000  1209500  1807500  2888000   9105975  \n4           823500  1030000  1685000  2125000  5750000  13138250  \n5          1078000  1650000  2050000  1990000        0   8694925  \nTotal      3305500  5322500  4944500  5922500  8638000  37053650  ",
      "text/html": "<div>\n<style scoped>\n    .dataframe tbody tr th:only-of-type {\n        vertical-align: middle;\n    }\n\n    .dataframe tbody tr th {\n        vertical-align: top;\n    }\n\n    .dataframe thead th {\n        text-align: right;\n    }\n</style>\n<table border=\"1\" class=\"dataframe\">\n  <thead>\n    <tr style=\"text-align: right;\">\n      <th>grade</th>\n      <th>1</th>\n      <th>3</th>\n      <th>4</th>\n      <th>5</th>\n      <th>6</th>\n      <th>7</th>\n      <th>8</th>\n      <th>9</th>\n      <th>10</th>\n      <th>11</th>\n      <th>12</th>\n      <th>13</th>\n      <th>Total</th>\n    </tr>\n    <tr>\n      <th>condition</th>\n      <th></th>\n      <th></th>\n      <th></th>\n      <th></th>\n      <th></th>\n      <th></th>\n      <th></th>\n      <th></th>\n      <th></th>\n      <th></th>\n      <th></th>\n      <th></th>\n      <th></th>\n    </tr>\n  </thead>\n  <tbody>\n    <tr>\n      <th>1</th>\n      <td>142000</td>\n      <td>0</td>\n      <td>150000</td>\n      <td>190000</td>\n      <td>255000</td>\n      <td>403500</td>\n      <td>932500</td>\n      <td>0</td>\n      <td>0</td>\n      <td>0</td>\n      <td>0</td>\n      <td>0</td>\n      <td>2073000</td>\n    </tr>\n    <tr>\n      <th>2</th>\n      <td>0</td>\n      <td>280000</td>\n      <td>145000</td>\n      <td>180000</td>\n      <td>235000</td>\n      <td>305000</td>\n      <td>429000</td>\n      <td>715000</td>\n      <td>1752500</td>\n      <td>0</td>\n      <td>0</td>\n      <td>0</td>\n      <td>4041500</td>\n    </tr>\n    <tr>\n      <th>3</th>\n      <td>0</td>\n      <td>75000</td>\n      <td>205000</td>\n      <td>234475</td>\n      <td>265000</td>\n      <td>357500</td>\n      <td>485000</td>\n      <td>689000</td>\n      <td>890000</td>\n      <td>1209500</td>\n      <td>1807500</td>\n      <td>2888000</td>\n      <td>9105975</td>\n    </tr>\n    <tr>\n      <th>4</th>\n      <td>0</td>\n      <td>0</td>\n      <td>238525</td>\n      <td>229975</td>\n      <td>295000</td>\n      <td>390000</td>\n      <td>571250</td>\n      <td>823500</td>\n      <td>1030000</td>\n      <td>1685000</td>\n      <td>2125000</td>\n      <td>5750000</td>\n      <td>13138250</td>\n    </tr>\n    <tr>\n      <th>5</th>\n      <td>0</td>\n      <td>262000</td>\n      <td>0</td>\n      <td>227450</td>\n      <td>285475</td>\n      <td>456000</td>\n      <td>696000</td>\n      <td>1078000</td>\n      <td>1650000</td>\n      <td>2050000</td>\n      <td>1990000</td>\n      <td>0</td>\n      <td>8694925</td>\n    </tr>\n    <tr>\n      <th>Total</th>\n      <td>142000</td>\n      <td>617000</td>\n      <td>738525</td>\n      <td>1061900</td>\n      <td>1335475</td>\n      <td>1912000</td>\n      <td>3113750</td>\n      <td>3305500</td>\n      <td>5322500</td>\n      <td>4944500</td>\n      <td>5922500</td>\n      <td>8638000</td>\n      <td>37053650</td>\n    </tr>\n  </tbody>\n</table>\n</div>"
     },
     "execution_count": 95,
     "metadata": {},
     "output_type": "execute_result"
    }
   ],
   "source": [
    "df_03_5_a = df.pivot_table(index='condition', columns='grade', values='price', aggfunc='median', fill_value=0)\n",
    "\n",
    "df_03_5_a.loc['Total'] = df_03_5_a.sum()\n",
    "df_03_5_a = df_03_5_a.assign(Total=df_03_5_a.apply(lambda x: x.sum(), axis=1))\n",
    "df_03_5_a.head(10)"
   ],
   "metadata": {
    "collapsed": false
   }
  },
  {
   "cell_type": "code",
   "execution_count": 97,
   "outputs": [
    {
     "data": {
      "text/plain": "           median                                                      \\\ngrade           1       3       4        5        6        7        8   \ncondition                                                               \n1          142000       0  150000   190000   255000   403500   932500   \n2               0  280000  145000   180000   235000   305000   429000   \n3               0   75000  205000   234475   265000   357500   485000   \n4               0       0  238525   229975   295000   390000   571250   \n5               0  262000       0   227450   285475   456000   696000   \nTotal      142000  617000  738525  1061900  1335475  1912000  3113750   \n\n                                                           Total  \ngrade            9       10       11       12       13            \ncondition                                                         \n1                0        0        0        0        0   2073000  \n2           715000  1752500        0        0        0   4041500  \n3           689000   890000  1209500  1807500  2888000   9105975  \n4           823500  1030000  1685000  2125000  5750000  13138250  \n5          1078000  1650000  2050000  1990000        0   8694925  \nTotal      3305500  5322500  4944500  5922500  8638000  37053650  ",
      "text/html": "<div>\n<style scoped>\n    .dataframe tbody tr th:only-of-type {\n        vertical-align: middle;\n    }\n\n    .dataframe tbody tr th {\n        vertical-align: top;\n    }\n\n    .dataframe thead tr th {\n        text-align: left;\n    }\n\n    .dataframe thead tr:last-of-type th {\n        text-align: right;\n    }\n</style>\n<table border=\"1\" class=\"dataframe\">\n  <thead>\n    <tr>\n      <th></th>\n      <th colspan=\"12\" halign=\"left\">median</th>\n      <th>Total</th>\n    </tr>\n    <tr>\n      <th>grade</th>\n      <th>1</th>\n      <th>3</th>\n      <th>4</th>\n      <th>5</th>\n      <th>6</th>\n      <th>7</th>\n      <th>8</th>\n      <th>9</th>\n      <th>10</th>\n      <th>11</th>\n      <th>12</th>\n      <th>13</th>\n      <th></th>\n    </tr>\n    <tr>\n      <th>condition</th>\n      <th></th>\n      <th></th>\n      <th></th>\n      <th></th>\n      <th></th>\n      <th></th>\n      <th></th>\n      <th></th>\n      <th></th>\n      <th></th>\n      <th></th>\n      <th></th>\n      <th></th>\n    </tr>\n  </thead>\n  <tbody>\n    <tr>\n      <th>1</th>\n      <td>142000</td>\n      <td>0</td>\n      <td>150000</td>\n      <td>190000</td>\n      <td>255000</td>\n      <td>403500</td>\n      <td>932500</td>\n      <td>0</td>\n      <td>0</td>\n      <td>0</td>\n      <td>0</td>\n      <td>0</td>\n      <td>2073000</td>\n    </tr>\n    <tr>\n      <th>2</th>\n      <td>0</td>\n      <td>280000</td>\n      <td>145000</td>\n      <td>180000</td>\n      <td>235000</td>\n      <td>305000</td>\n      <td>429000</td>\n      <td>715000</td>\n      <td>1752500</td>\n      <td>0</td>\n      <td>0</td>\n      <td>0</td>\n      <td>4041500</td>\n    </tr>\n    <tr>\n      <th>3</th>\n      <td>0</td>\n      <td>75000</td>\n      <td>205000</td>\n      <td>234475</td>\n      <td>265000</td>\n      <td>357500</td>\n      <td>485000</td>\n      <td>689000</td>\n      <td>890000</td>\n      <td>1209500</td>\n      <td>1807500</td>\n      <td>2888000</td>\n      <td>9105975</td>\n    </tr>\n    <tr>\n      <th>4</th>\n      <td>0</td>\n      <td>0</td>\n      <td>238525</td>\n      <td>229975</td>\n      <td>295000</td>\n      <td>390000</td>\n      <td>571250</td>\n      <td>823500</td>\n      <td>1030000</td>\n      <td>1685000</td>\n      <td>2125000</td>\n      <td>5750000</td>\n      <td>13138250</td>\n    </tr>\n    <tr>\n      <th>5</th>\n      <td>0</td>\n      <td>262000</td>\n      <td>0</td>\n      <td>227450</td>\n      <td>285475</td>\n      <td>456000</td>\n      <td>696000</td>\n      <td>1078000</td>\n      <td>1650000</td>\n      <td>2050000</td>\n      <td>1990000</td>\n      <td>0</td>\n      <td>8694925</td>\n    </tr>\n    <tr>\n      <th>Total</th>\n      <td>142000</td>\n      <td>617000</td>\n      <td>738525</td>\n      <td>1061900</td>\n      <td>1335475</td>\n      <td>1912000</td>\n      <td>3113750</td>\n      <td>3305500</td>\n      <td>5322500</td>\n      <td>4944500</td>\n      <td>5922500</td>\n      <td>8638000</td>\n      <td>37053650</td>\n    </tr>\n  </tbody>\n</table>\n</div>"
     },
     "execution_count": 97,
     "metadata": {},
     "output_type": "execute_result"
    }
   ],
   "source": [
    "df_03_5_b = df.groupby(['condition', 'grade'])['price'].agg(['median']).unstack('grade').fillna(0, downcast='infer')\n",
    "\n",
    "df_03_5_b.loc['Total'] = df_03_5_b.sum()\n",
    "df_03_5_b = df_03_5_b.assign(Total=df_03_5_b.apply(lambda x: x.sum(), axis=1))\n",
    "df_03_5_b.head(10)"
   ],
   "metadata": {
    "collapsed": false
   }
  }
 ],
 "metadata": {
  "kernelspec": {
   "display_name": "Python 3",
   "language": "python",
   "name": "python3"
  },
  "language_info": {
   "codemirror_mode": {
    "name": "ipython",
    "version": 2
   },
   "file_extension": ".py",
   "mimetype": "text/x-python",
   "name": "python",
   "nbconvert_exporter": "python",
   "pygments_lexer": "ipython2",
   "version": "2.7.6"
  }
 },
 "nbformat": 4,
 "nbformat_minor": 0
}
